{
 "cells": [
  {
   "cell_type": "markdown",
   "metadata": {
    "slideshow": {
     "slide_type": "skip"
    }
   },
   "source": [
    "# Exploring the collation of Calpurnius Flaccus\n",
    "\n",
    "In this notebook, I present an interactive method to manipulate the collation of the *Declamations* of Calpurnius Flaccus obtained with [CollateX](collatex.net).\n",
    "\n",
    "## Understanding the data\n",
    "\n",
    "First it is necessary to understand the structure of the collation data. [Here](http://www.w3resource.com/JSON/structures.php) you can find the generic description of json structures. An object (dictionary) is made of one or more pairs of name/value. The relation name/value is similar to the relation between a word and its definition in a dictionary. An array (list) is an ordered list of values. A json *object* corresponds to a python *dictionary*, and a json *array* to a python *list*. Lists can be combined: a table is a list of lists.\n",
    "\n",
    "There are two objects in the json collation, which are converted into their equivalent in python: \n",
    "* a list of witnesses (\"witnesses\")\n",
    "* a table with the aligned text versions (\"table\")\n",
    "\n",
    "The list of witnesses works as a header for the table, which can be itself described as:\n",
    "* a table is a list of rows\n",
    "* a row is a list of cells\n",
    "* a cell is a list of tokens\n",
    "* a token is a dictionary with the following entries:\n",
    "    * **t : exact word as it appears in the witness**\n",
    "    * n : optional normalized version of the word\n",
    "    * locus : optional exact location of the word in the manuscript/edition. Folio/page number, followed by line number\n",
    "    * note : optional comment \n",
    "    * decl: optional declamation number\n",
    "    * link : optional link to the page of a digital facsimile, where the token appears\n",
    "    \n",
    "The order of the rows is important, because it follows the order of the text. Row 0 has the first word(s) of the text, whereas the last row has also the last word(s) of the text. The row's number is called ID number, and will be used later for variant location identification.\n",
    "\n",
    "## Summary <a name=\"ToC\"></a>\n",
    "1. [Import Data](#part1).\n",
    "The first step is to import the collation results into python. \n",
    "\n",
    "2. [Functions](#part2).\n",
    "Then we will create functions to filter the data according to our need. For instance, we may want to find all the unique variants of one witness. Or we would like to see the places where one group of witnesses agrees with each other against another group of witnesses. Some functions will allow us to diplay only a section of the collation, or information specific to one variant location. Including:\n",
    "  1. [find agreements](#func2-4)\n",
    "  2. [table to html](#func2-6)\n",
    "  3. [move tokens](#func2-10)\n",
    "  4. [add/delete note](#func2-11)\n",
    "  5. [search](#func2-12)\n",
    "  6. [save](#func2-13)\n",
    "\n",
    "3. [Exploration of collation](#part3).\n",
    "Finally, we will use our functions to explore the collation of Calpurnius Flaccus, with interactive [widgets](http://ipywidgets.readthedocs.io/en/latest/index.html):\n",
    "  1. [Modify](#part3-1) collation (move tokens, add/del rows, add/del notes, save the new json)\n",
    "  2. [Find agreements](#part3-2) between witnesses, and save the result into a more complex html file\n",
    "  3. [Search](#part3-3) the collation\n",
    "  4. [Clarify](#part3-4) a reading\n",
    "\n",
    "## Notebook re-use\n",
    "Any JSON output from collateX, with **tokens \"t\"**. The other elements are optional.\n",
    "\n",
    "Some transformations may be needed. For instance:\n",
    " * In collation [import data](#import1-2) :  change the base base text. Otherwise, suppress it altogether from the two \"table_to_html\" [functions](#func2-6) and change the description of the \"save_to_html\" [function](#func2-13).\n",
    " * In the HTML template, title and credits should be updated. The transformation into complex HTML could also be adapted, according to the json model of the new user.\n",
    "\n",
    "## Possible Improvements\n",
    "- large amounts of modifications (moving many tokens at the same time)\n",
    "- find and delete empty rows automatically\n",
    "- edit notes directly\n",
    "- save file with popup window\n",
    "- etc."
   ]
  },
  {
   "cell_type": "markdown",
   "metadata": {
    "slideshow": {
     "slide_type": "skip"
    }
   },
   "source": [
    "## IMPORT DATA <a name=\"part1\"></a>"
   ]
  },
  {
   "cell_type": "markdown",
   "metadata": {
    "slideshow": {
     "slide_type": "skip"
    }
   },
   "source": [
    "### Python modules import"
   ]
  },
  {
   "cell_type": "code",
   "execution_count": null,
   "metadata": {
    "collapsed": false,
    "slideshow": {
     "slide_type": "skip"
    }
   },
   "outputs": [],
   "source": [
    "#python modules\n",
    "import json\n",
    "import sys\n",
    "import re\n",
    "from IPython.display import display,HTML\n",
    "\n",
    "#ipywidgets modules\n",
    "from __future__ import print_function\n",
    "from ipywidgets import *\n",
    "import ipywidgets as widgets"
   ]
  },
  {
   "cell_type": "markdown",
   "metadata": {
    "slideshow": {
     "slide_type": "skip"
    }
   },
   "source": [
    "### Collation import <a name='import1-2'></a>"
   ]
  },
  {
   "cell_type": "code",
   "execution_count": null,
   "metadata": {
    "collapsed": false,
    "slideshow": {
     "slide_type": "skip"
    }
   },
   "outputs": [],
   "source": [
    "#path to the json results of the collation\n",
    "path = 'json-collations/calpurnius-collation-joint-BCMNPH.json'\n",
    "#path = 'json-collations/calpurnius-collation-joint-BCMNPH-corr.json'\n",
    "\n",
    "#open the file\n",
    "with open (path, encoding='utf-8') as jsonfile:\n",
    "    #transform the json structure (arrays, objects) into python structure (lists, dictionaries)\n",
    "    data = json.load(jsonfile)\n",
    "\n",
    "#list of witnesses\n",
    "witnesses = data[\"witnesses\"]\n",
    "print(witnesses)\n",
    "\n",
    "#table of the aligned text versions\n",
    "collation = data[\"table\"]\n",
    "\n",
    "#base text: choose a witness which variants are considered true readings (in green)\n",
    "#For Calpurnius, the most recent edition of Hakanson is used as the base text\n",
    "base_text = 'LH'\n",
    "\n",
    "#the index of a witness is its position in the witness list:\n",
    "#for instance B1 has position 0, and P1594 has position 9."
   ]
  },
  {
   "cell_type": "markdown",
   "metadata": {
    "slideshow": {
     "slide_type": "skip"
    }
   },
   "source": [
    "## FUNCTIONS <a name=\"part2\"></a> [↑](#ToC)"
   ]
  },
  {
   "cell_type": "markdown",
   "metadata": {
    "slideshow": {
     "slide_type": "skip"
    }
   },
   "source": [
    "### Transform a cell c (list of tokens) into a string of text"
   ]
  },
  {
   "cell_type": "code",
   "execution_count": null,
   "metadata": {
    "collapsed": false,
    "slideshow": {
     "slide_type": "skip"
    }
   },
   "outputs": [],
   "source": [
    "#original text\n",
    "def cell_to_string(c):    \n",
    "    #tokens t are joined together, separated by a space\n",
    "    string = ' '.join(token['t'] for token in c)\n",
    "    return string\n",
    "\n",
    "#text with normalized tokens\n",
    "def cell_to_string_norm(c):    \n",
    "    string = ''\n",
    "    #word division is not taken into account when comparing the normalized text\n",
    "    #for this reason we do not add a space in between tokens\n",
    "    for token in c:\n",
    "        if 'n' in token:\n",
    "            string += token['n']\n",
    "        elif 't' in token:\n",
    "            string += token['t']\n",
    "    return string\n"
   ]
  },
  {
   "cell_type": "markdown",
   "metadata": {
    "slideshow": {
     "slide_type": "skip"
    }
   },
   "source": [
    "### Compare cells"
   ]
  },
  {
   "cell_type": "code",
   "execution_count": null,
   "metadata": {
    "collapsed": false,
    "slideshow": {
     "slide_type": "skip"
    }
   },
   "outputs": [],
   "source": [
    "#compare two cells, original text\n",
    "def compare_cell(c1,c2):\n",
    "    return cell_to_string(c1) == cell_to_string(c2)\n",
    "\n",
    "#compare two cells, normalized text\n",
    "def compare_cell_norm(c1,c2):\n",
    "    return cell_to_string_norm(c1) == cell_to_string_norm(c2)    \n",
    "\n",
    "#compare a list of cells, original text\n",
    "#return true if all the cells are equivalent (they contain the same string of tokens)    \n",
    "def compare_multiple_cell(cell_list):\n",
    "    #compare each cell to the next\n",
    "    for c1,c2 in zip(cell_list, cell_list[1:]):\n",
    "        if compare_cell(c1,c2) is False:\n",
    "            comparison = False\n",
    "            break\n",
    "    else:\n",
    "        comparison = True\n",
    "    return comparison\n",
    "\n",
    "#compare a list of cells, normalized text\n",
    "#return true if all the cells are equivalent (they contain the same string of tokens)\n",
    "def compare_multiple_cell_norm(cell_list):\n",
    "    #compare each cell to the next\n",
    "    for c1,c2 in zip(cell_list, cell_list[1:]):\n",
    "        if compare_cell_norm(c1,c2) is False:\n",
    "            comparison = False\n",
    "            break\n",
    "    else:\n",
    "        comparison = True\n",
    "    return comparison"
   ]
  },
  {
   "cell_type": "markdown",
   "metadata": {
    "slideshow": {
     "slide_type": "skip"
    }
   },
   "source": [
    "### Find agreements 1"
   ]
  },
  {
   "cell_type": "code",
   "execution_count": null,
   "metadata": {
    "collapsed": false,
    "slideshow": {
     "slide_type": "skip"
    }
   },
   "outputs": [],
   "source": [
    "#this function returns rows of the collation table (table) where a list of witnesses (witlist) agree together.\n",
    "#we display only variant locations, and not places where all witnesses agree.\n",
    "\n",
    "def find_agreements(table, witlist):\n",
    "    result_table = []\n",
    "    \n",
    "    #transform widget tuple into actual list\n",
    "    witlist = list(witlist)\n",
    "    \n",
    "    #transform the witnesses names (sigla) into indexes\n",
    "    witindex = [witnesses.index(wit) for wit in witlist]\n",
    "    nonwitindex = [witnesses.index(wit) for wit in witnesses if wit not in witlist]\n",
    "\n",
    "    for row in table:\n",
    "        #get list of cell for the x witnesses\n",
    "        cell_list = [row[i] for i in witindex]\n",
    "        #there must be agreement of the x witnesses (normalised tokens)\n",
    "        if compare_multiple_cell_norm(cell_list) is True:\n",
    "            for i in nonwitindex:\n",
    "                #if they disagree with at least one of the others\n",
    "                if compare_cell_norm(row[witindex[0]],row[i]) is False:\n",
    "                    #add row\n",
    "                    result_table.append(row)\n",
    "                    #and go to next row\n",
    "                    break\n",
    "\n",
    "    return result_table"
   ]
  },
  {
   "cell_type": "markdown",
   "metadata": {
    "slideshow": {
     "slide_type": "skip"
    }
   },
   "source": [
    "### Find agreements 2  <a name='func2-4'></a> [↑](#ToC)"
   ]
  },
  {
   "cell_type": "code",
   "execution_count": null,
   "metadata": {
    "collapsed": false,
    "slideshow": {
     "slide_type": "skip"
    }
   },
   "outputs": [],
   "source": [
    "#This function is similar to the previous one:\n",
    "#it returns rows of the collation table (table) where a list of witnesses (witlist) agree together, but\n",
    "#against witnesses in a second list (nonwitlist).\n",
    "\n",
    "#By default, it will return the agreement against all the other witnesses.\n",
    "\n",
    "def compare_witnesses(table, witlist, nonwitlist=[]):\n",
    "    result_table = []\n",
    "    \n",
    "    #first list of x witnesses which agree together\n",
    "    witindex = [witnesses.index(wit) for wit in witlist]\n",
    "    #against all the other witnesses\n",
    "    if not nonwitlist:\n",
    "        nonwitindex = [witnesses.index(wit) for wit in witnesses if wit not in witlist]\n",
    "    #except if a second list of y witnesses is specified\n",
    "    else:\n",
    "        nonwitindex = [witnesses.index(wit) for wit in nonwitlist]\n",
    "    \n",
    "    #go through the collation table, row by row\n",
    "    #to find places where the x witnesses agree together against others\n",
    "    for row in table:\n",
    "        #get list of cell for the x witnesses\n",
    "        cell_list = [row[i] for i in witindex]\n",
    "        #there must be agreement of the x witnesses (normalised tokens)\n",
    "        if compare_multiple_cell_norm(cell_list) is True:\n",
    "            for i in nonwitindex:\n",
    "                #if they agree with one of the other witnesses\n",
    "                if compare_cell_norm(row[witindex[0]],row[i]) is True:\n",
    "                    #go to next row\n",
    "                    break\n",
    "            else:\n",
    "                result_table.append(row)\n",
    "    return result_table"
   ]
  },
  {
   "cell_type": "markdown",
   "metadata": {
    "slideshow": {
     "slide_type": "skip"
    }
   },
   "source": [
    "### Find all variants in the collation table"
   ]
  },
  {
   "cell_type": "code",
   "execution_count": null,
   "metadata": {
    "collapsed": true,
    "slideshow": {
     "slide_type": "skip"
    }
   },
   "outputs": [],
   "source": [
    "def view_variants(table):\n",
    "    result_table = []\n",
    "    for row in table:\n",
    "        # there must be at least one variant\n",
    "        if compare_multiple_cell_norm(row) is False:\n",
    "            result_table.append(row)       \n",
    "    return result_table"
   ]
  },
  {
   "cell_type": "markdown",
   "metadata": {
    "slideshow": {
     "slide_type": "skip"
    }
   },
   "source": [
    "### Transform the result table into an html table  <a name='func2-6'></a> [↑](#ToC)"
   ]
  },
  {
   "cell_type": "code",
   "execution_count": null,
   "metadata": {
    "collapsed": false,
    "slideshow": {
     "slide_type": "skip"
    }
   },
   "outputs": [],
   "source": [
    "#this is a minimal html, to display in the notebook.\n",
    "\n",
    "def table_to_html(collation,table):\n",
    "    \n",
    "    #table in an html format\n",
    "    html_table = ''\n",
    "    #div is for a better slides view. For notebook use, comment it out\n",
    "    #html_table += '<div style=\"overflow: scroll; width:960; height:417px; word-break: break-all;\">'\n",
    "    html_table += '<table border=\"1\" style=\"width: 100%; border: 1px solid #000000; border-collapse: collapse;\" cellpadding=\"4\">'\n",
    "    \n",
    "    #add a header to the table with columns, one for each witnesses and one for the row ID\n",
    "    html_table += '<tr>'\n",
    "    #a column for each witness\n",
    "    for wit in witnesses:\n",
    "        html_table += '<th>'+wit+'</th>'\n",
    "    #optional: column for the declamation number\n",
    "    #html_table += '<th>Decl</th>'\n",
    "    #column for the row id\n",
    "    html_table += '<th>ID</th>'\n",
    "    html_table += '</tr>'\n",
    "    \n",
    "    for row in table:\n",
    "        #add a row to the html table\n",
    "        html_table += '<tr>'\n",
    "        #optional : a variable to store the declamation number (will not be defined in empty rows)\n",
    "        #declamation = 0\n",
    "        #fill row with cell for each witness\n",
    "        for cell in row:\n",
    "            #transform the token t into a string.\n",
    "            #we display the original token, not the normalized form\n",
    "            token = cell_to_string(cell)\n",
    "            \n",
    "            #some cells are empty. Thus the declamation number is only available in cell with at least 1 token\n",
    "            #if len(cell)>0:\n",
    "            #    declamation = str(cell[0]['decl'])\n",
    "            \n",
    "            #if the normalized token is different from the \"true reading\"\n",
    "            #it is diplayed in a red cell\n",
    "            bg = \"ffb1b1\"\n",
    "            #otherwise in a green cell\n",
    "            if compare_cell_norm(cell,row[witnesses.index(base_text)]):\n",
    "                bg = \"d9ead3\"\n",
    "            html_table += '<td bgcolor=\"'+bg+'\">'+token+'</td>'\n",
    "        \n",
    "        #optional: add declamation number  \n",
    "        #html_table += '<td>'+str(location)+'</td>'\n",
    "        \n",
    "        #add row ID\n",
    "        html_table += '<td>'+str(collation.index(row))+'</td>' \n",
    "        \n",
    "        #close the row\n",
    "        html_table += '</tr>'\n",
    "    \n",
    "    #close the table\n",
    "    html_table += '</table>'\n",
    "    #html_table += '</div>'\n",
    "\n",
    "    return html_table \n",
    "    "
   ]
  },
  {
   "cell_type": "code",
   "execution_count": null,
   "metadata": {
    "collapsed": true,
    "slideshow": {
     "slide_type": "skip"
    }
   },
   "outputs": [],
   "source": [
    "#this a fancier HTML, but can't be displayed in the notebook (yet)\n",
    "def table_to_html_fancy(collation,table):\n",
    "    #table in an html format\n",
    "    html_table = '<table>'\n",
    "    \n",
    "    #add a header to the table with columns\n",
    "    html_table += '<thead><tr>'\n",
    "    #a column for each witness\n",
    "    for wit in witnesses:\n",
    "        html_table += '<th>'+'<p>'+wit+'</p>'+'</th>'\n",
    "    #a column for the row id\n",
    "    html_table += '<th><p>ID</p></th>'\n",
    "    #close header\n",
    "    html_table += '</tr></thead><tbody>'\n",
    "    \n",
    "    for row in table:\n",
    "        #add a row to the html table\n",
    "        html_table += '<tr>'\n",
    "        for cell in row:\n",
    "            #transform the token t into a string (original token) \n",
    "            token = cell_to_string(cell)\n",
    "            #if the normalized token is different from the supposed \"true reading\"\n",
    "            #it is diplayed in a cell with orange left border\n",
    "            cl = \"orange\"\n",
    "            #otherwise with green left border\n",
    "            if compare_cell_norm(cell,row[witnesses.index(base_text)]):\n",
    "                cl = \"green\"\n",
    "            #add token to the table, in a text paragraph    \n",
    "            html_table += '<td class=\"'+cl+'\">'+'<p>'+token\n",
    "            \n",
    "            #if there is a note to display, add a little 'i' to indicate there is more hidden information\n",
    "            for t in cell:\n",
    "                #in the cell, if we find a token with a note\n",
    "                if 'note' in t:\n",
    "                    #add info indicator\n",
    "                    html_table += ' <a href=\"#\" class=\"expander right\"><i class=\"fa fa-info-circle\"></i></a>'\n",
    "                    #then stop (even if there are several notes, we display only one indicator)\n",
    "                    break\n",
    "\n",
    "            #close the text paragraph in the cell\n",
    "            html_table += '</p>'\n",
    "            \n",
    "            #add paragraphs for hidden content (notes. Not limited to notes only: normalized form could be added, etc.)\n",
    "            for t in cell:\n",
    "                if 'note' in t:\n",
    "                    html_table += '<p class=\"expandable hidden more-info\">Note: '+t['note']+'.</p>'\n",
    "            \n",
    "            #when the cell is not empty, add hidden info of page/line numbers. Adapted to make 'locus' optional\n",
    "            if len(cell)>0 and 'locus' in cell[0]:\n",
    "            #if len(cell)>0 :\n",
    "                #add link to images when possible\n",
    "                if 'link' in cell[0]:\n",
    "                    url = cell[0]['link']\n",
    "                    html_table += '<p class=\"expandable-row hidden more-info\"><a target=\"blank\" href='+url+'>'+cell[0]['locus']+'</a></p>'\n",
    "                else:\n",
    "                    html_table += '<p class=\"expandable-row hidden more-info\">'+cell[0]['locus']+'</p>'\n",
    "            \n",
    "            #close cell\n",
    "            html_table += '</td>'\n",
    "        \n",
    "        #add row ID with indicator of hidden content\n",
    "        html_table += '<td>'+'<p>'+str(collation.index(row))+' <a href=\"#\" class=\"expander-row right\"><i class=\"fa fa-ellipsis-v\"></i></a></p>'+'</td>' \n",
    "        #close the row\n",
    "        html_table += '</tr>'\n",
    "    #close the table\n",
    "    html_table += '</tbody></table>'\n",
    "    \n",
    "    return html_table"
   ]
  },
  {
   "cell_type": "markdown",
   "metadata": {
    "slideshow": {
     "slide_type": "skip"
    }
   },
   "source": [
    "### Print collation in a text orientation\n",
    "To read a short passage quickly. The collation table is reversed so that each witness is displayed on a row instead of a column. "
   ]
  },
  {
   "cell_type": "code",
   "execution_count": null,
   "metadata": {
    "collapsed": false,
    "slideshow": {
     "slide_type": "skip"
    }
   },
   "outputs": [],
   "source": [
    "def print_witnesses_text(table):\n",
    "    reverse_table = [[row[i] for row in table] for i in range(len(witnesses))]\n",
    "    for index,row in enumerate(reverse_table):\n",
    "        text = ''\n",
    "        for cell in row:\n",
    "            #the row starts and ends with a token, not a space\n",
    "            if row.index(cell) == 0 or text == '' or not cell:\n",
    "                text += cell_to_string(cell)\n",
    "            #if it is not the start of the string or an empty cell, add a space to separate tokens\n",
    "            else:\n",
    "                text += ' '+cell_to_string(cell)\n",
    "        text += ', '+str(witnesses[index])\n",
    "        print(text)\n",
    "    #return reverse_table"
   ]
  },
  {
   "cell_type": "markdown",
   "metadata": {
    "slideshow": {
     "slide_type": "skip"
    }
   },
   "source": [
    "### Print information about a reading"
   ]
  },
  {
   "cell_type": "code",
   "execution_count": null,
   "metadata": {
    "collapsed": false,
    "slideshow": {
     "slide_type": "skip"
    }
   },
   "outputs": [],
   "source": [
    "def print_info(rowID, wit):\n",
    "    #if there is no token\n",
    "    if len(collation[int(rowID)][witnesses.index(wit)]) == 0:\n",
    "            print('-')\n",
    "    else:\n",
    "        for token in collation[int(rowID)][witnesses.index(wit)]:\n",
    "            print(', '.join(token[feature] for feature in token))"
   ]
  },
  {
   "cell_type": "markdown",
   "metadata": {
    "slideshow": {
     "slide_type": "skip"
    }
   },
   "source": [
    "### Get the ID of a row"
   ]
  },
  {
   "cell_type": "code",
   "execution_count": null,
   "metadata": {
    "collapsed": true,
    "slideshow": {
     "slide_type": "skip"
    }
   },
   "outputs": [],
   "source": [
    "def get_pos(row):\n",
    "    return collation.index(row)"
   ]
  },
  {
   "cell_type": "markdown",
   "metadata": {
    "slideshow": {
     "slide_type": "skip"
    }
   },
   "source": [
    "### Move a token to the previous (up) or next (down) row  <a name='func2-10'></a> [↑](#ToC)"
   ]
  },
  {
   "cell_type": "code",
   "execution_count": null,
   "metadata": {
    "collapsed": false,
    "slideshow": {
     "slide_type": "skip"
    }
   },
   "outputs": [],
   "source": [
    "def move_token_up(rowID, wit):\n",
    "    try:\n",
    "        #select the first token\n",
    "        token = collation[rowID][witnesses.index(wit)].pop(0)\n",
    "        #append it at the end of the cell in the previous row\n",
    "        collation[rowID-1][witnesses.index(wit)].append(token)\n",
    "    except:\n",
    "        print(\"There is no token to move.\")\n",
    "\n",
    "def move_token_down(rowID, wit):\n",
    "    try:\n",
    "        #select the last token\n",
    "        token = collation[rowID][witnesses.index(wit)].pop()\n",
    "        #add it at the beginning of the cell in the next row\n",
    "        collation[rowID+1][witnesses.index(wit)].insert(0, token)\n",
    "    except:\n",
    "        print(\"There is no token to move.\")"
   ]
  },
  {
   "cell_type": "markdown",
   "metadata": {
    "slideshow": {
     "slide_type": "skip"
    }
   },
   "source": [
    "### Add / delete a row"
   ]
  },
  {
   "cell_type": "code",
   "execution_count": null,
   "metadata": {
    "collapsed": false,
    "slideshow": {
     "slide_type": "skip"
    }
   },
   "outputs": [],
   "source": [
    "def add_row_after(rowID):\n",
    "    #rowID must be within collation table\n",
    "    if rowID < 0 or rowID > len(collation):\n",
    "        print('Row'+rowID+' does not exist.')\n",
    "    else:\n",
    "        #create an empty row\n",
    "        new_row = []\n",
    "        #for each witness in the collation\n",
    "        for wit in witnesses:\n",
    "            #add an empty list of tokens to the row\n",
    "            new_row.append([])\n",
    "        #insert new row in the collation, after the row passed in argument (+1)\n",
    "        collation.insert(rowID+1, new_row)\n",
    "        print('Row added!')\n",
    "    \n",
    "def delete_row(rowID):\n",
    "    #rowID must be within collation table\n",
    "    if rowID < 0 or rowID > len(collation):\n",
    "        print('Row'+rowID+' does not exist.')\n",
    "    else:\n",
    "        collation.pop(rowID)\n",
    "        print('Row deleted!')\n"
   ]
  },
  {
   "cell_type": "markdown",
   "metadata": {
    "slideshow": {
     "slide_type": "skip"
    }
   },
   "source": [
    "### Add / Delete a note  <a name='func2-11'></a> [↑](#ToC)"
   ]
  },
  {
   "cell_type": "code",
   "execution_count": null,
   "metadata": {
    "collapsed": true,
    "slideshow": {
     "slide_type": "skip"
    }
   },
   "outputs": [],
   "source": [
    "#add or modify a note\n",
    "def add_note(wit, rowID, token, note):\n",
    "    #for each token in the witnes/row selected\n",
    "    for t in collation[rowID][witnesses.index(wit)]:\n",
    "        #check that the note isnt empty and that the token corresponds to the one passed by user\n",
    "        if note is not '' and t['t'] == token:\n",
    "            if 'note' in t:\n",
    "                #add comment to already existing note\n",
    "                t['note'] += ' '+note\n",
    "            else:\n",
    "                #or create a new note\n",
    "                t['note'] = note\n",
    "        else:\n",
    "            print('Note could not be added.\\nCheck that your note is not empty, and the token is correct')\n",
    "\n",
    "#delete completely a token's note            \n",
    "def del_note(wit, rowID, token):\n",
    "    #for each token in the witnes/row selected\n",
    "    for t in collation[rowID][witnesses.index(wit)]:\n",
    "        #check that token corresponds and that note exists\n",
    "        if t['t'] == token and 'note' in t:\n",
    "            #delete note    \n",
    "            t.pop('note')\n",
    "        else:\n",
    "            #error message\n",
    "            print('There is no note to delete')"
   ]
  },
  {
   "cell_type": "markdown",
   "metadata": {
    "slideshow": {
     "slide_type": "skip"
    }
   },
   "source": [
    "### Search  <a name='func2-12'></a> [↑](#ToC)"
   ]
  },
  {
   "cell_type": "code",
   "execution_count": null,
   "metadata": {
    "collapsed": true,
    "slideshow": {
     "slide_type": "skip"
    }
   },
   "outputs": [],
   "source": [
    "def search(table,text):\n",
    "    #result table to build\n",
    "    result_table = []\n",
    "    \n",
    "    #go through each row of the collation table\n",
    "    for row in table:\n",
    "        #go through each cell\n",
    "        for cell in row:\n",
    "            #if the cell text matches the search text\n",
    "            if text in cell_to_string_norm(cell) or text in cell_to_string(cell):\n",
    "                #add row to the result table\n",
    "                result_table.append(row)\n",
    "                #go to next row\n",
    "                break\n",
    "    \n",
    "    #if the result table is empty, the text was not found in the collation\n",
    "    if result_table == []:\n",
    "        print(text+\" was not found!\")\n",
    "    \n",
    "    return result_table"
   ]
  },
  {
   "cell_type": "markdown",
   "metadata": {
    "slideshow": {
     "slide_type": "skip"
    }
   },
   "source": [
    "### Save results  <a name='func2-13'></a> [↑](#ToC)"
   ]
  },
  {
   "cell_type": "code",
   "execution_count": null,
   "metadata": {
    "collapsed": false,
    "slideshow": {
     "slide_type": "skip"
    }
   },
   "outputs": [],
   "source": [
    "#save the json file with update in the collation table\n",
    "def save_json(path, table):\n",
    "    #combine new collation table with witnesses, so as to have one data variable\n",
    "    data = {'witnesses':witnesses, 'table':table}\n",
    "    #open a file according to path\n",
    "    with open(path, 'w') as outfile:\n",
    "        #write the data in json format\n",
    "        json.dump(data, outfile)"
   ]
  },
  {
   "cell_type": "code",
   "execution_count": null,
   "metadata": {
    "collapsed": false,
    "slideshow": {
     "slide_type": "skip"
    }
   },
   "outputs": [],
   "source": [
    "#save a subset of the collation table into fancy HTML version, with a small text description\n",
    "def save_table(descr, table, path):\n",
    "    #path to template\n",
    "    template_path = 'alignment-tables/template.html'\n",
    "    \n",
    "    #load the text of the template into a variable html\n",
    "    with open(template_path, 'r', encoding='utf-8') as infile:\n",
    "        html = infile.read()\n",
    "    \n",
    "    #add base text to description\n",
    "    if base_text:\n",
    "        descr += '<br>Agreement with the base text '+base_text+' is marked in green.'\n",
    "        descr += ' Variation from '+base_text+' is marked in red.' \n",
    "        \n",
    "    #modify template: replace the comment with descr paragraph\n",
    "    html = re.sub(r'<!--descr-->',descr,html)\n",
    "    \n",
    "    #modify template: replace the comment with table\n",
    "    html = re.sub(r'<!--table-->',table,html)\n",
    "    \n",
    "    #save\n",
    "    with open(path, 'w', encoding='utf-8') as outfile:\n",
    "        outfile.write(html)\n"
   ]
  },
  {
   "cell_type": "markdown",
   "metadata": {
    "slideshow": {
     "slide_type": "slide"
    }
   },
   "source": [
    "## INTERACTIVE EXPLORATION OF THE COLLATION TABLE <a name=\"part3\"></a> [↑](#ToC)"
   ]
  },
  {
   "cell_type": "markdown",
   "metadata": {
    "slideshow": {
     "slide_type": "notes"
    }
   },
   "source": [
    "### Update the collation results <a name='part3-1'></a> [↑](#ToC)\n",
    "In this section, we will see how to view a selection of the collation table and update it.\n",
    "\n",
    "Possible updates:\n",
    "  1. Add/delete a row\n",
    "  3. Move one token up/down\n",
    "  4. Add notes\n",
    "  3. Save\n",
    "\n",
    "**Note** : it is only possible to move the last token (or word) in a cell down to the first place in the next cell; or vice-versa to move the first token of a cell up to the last place in the previous cell. This is to prevent any change in the word order of a witness, and *to keep the correct text sequence*."
   ]
  },
  {
   "cell_type": "code",
   "execution_count": null,
   "metadata": {
    "collapsed": false,
    "slideshow": {
     "slide_type": "slide"
    }
   },
   "outputs": [],
   "source": [
    "#an exctract of the collation table selected with interactive widgets\n",
    "\n",
    "#widget for HTML display\n",
    "w1_html = widgets.HTML(value=\"\")\n",
    "\n",
    "#define the beginning of extract\n",
    "w_from = widgets.BoundedIntText(\n",
    "    value=6,\n",
    "    min=0,\n",
    "    max=len(collation)-1,\n",
    "    description='From:',\n",
    ")\n",
    "\n",
    "#define the end of extract\n",
    "#because of python list slicing, the last number is not included in the result.\n",
    "#to make it more intuitive, the \"to\" number is added +1 in collation_extract function\n",
    "w_to = widgets.BoundedIntText(\n",
    "    value=11,\n",
    "    min=0,\n",
    "    max=len(collation)-1,\n",
    "    description='To:',\n",
    ")\n",
    "\n",
    "#binding widgets with table_to_html function\n",
    "def collation_extract(a, b):\n",
    "    widget.result = \"\"\n",
    "    x = a\n",
    "    y = b+1\n",
    "    w1_html.value = table_to_html(collation,collation[x:y])\n",
    "\n",
    "#interactive selection of collation table extract\n",
    "interact(collation_extract, a=w_from, b=w_to)\n",
    "#display selection widget (6-11)\n",
    "display(w1_html)"
   ]
  },
  {
   "cell_type": "code",
   "execution_count": null,
   "metadata": {
    "collapsed": false,
    "slideshow": {
     "slide_type": "skip"
    }
   },
   "outputs": [],
   "source": [
    "#Widgets for:\n",
    "#move tokens up/down\n",
    "#add/delete rows\n",
    "#add/delete notes to a specific token\n",
    "\n",
    "#widget to select a witness        \n",
    "w_wit = widgets.Dropdown(\n",
    "    options = witnesses,\n",
    "    value = 'LH',\n",
    "    description = 'Witness:',\n",
    ")\n",
    "#widget to select a row\n",
    "w_rowID = widgets.BoundedIntText(\n",
    "    value=9,\n",
    "    min=0,\n",
    "    max=len(collation),\n",
    "    description='ID:',\n",
    ")\n",
    "#widget to select a specific token\n",
    "w_token = widgets.Text(\n",
    "    description = 'Token:',\n",
    "    value = 'proximi'\n",
    ")\n",
    "#widget to enter text note\n",
    "w_note = widgets.Text(\n",
    "    description = 'Note:',\n",
    ")"
   ]
  },
  {
   "cell_type": "code",
   "execution_count": null,
   "metadata": {
    "collapsed": false,
    "slideshow": {
     "slide_type": "subslide"
    }
   },
   "outputs": [],
   "source": [
    "#add row after\n",
    "interact(add_row_after, rowID=w_rowID, __manual=True)"
   ]
  },
  {
   "cell_type": "code",
   "execution_count": null,
   "metadata": {
    "collapsed": false,
    "slideshow": {
     "slide_type": "subslide"
    }
   },
   "outputs": [],
   "source": [
    "#delete row\n",
    "interact(delete_row, rowID=w_rowID, __manual=True)"
   ]
  },
  {
   "cell_type": "code",
   "execution_count": null,
   "metadata": {
    "collapsed": false,
    "slideshow": {
     "slide_type": "subslide"
    }
   },
   "outputs": [],
   "source": [
    "#move token down\n",
    "interact(move_token_down, rowID=w_rowID, wit=w_wit, __manual=True)"
   ]
  },
  {
   "cell_type": "code",
   "execution_count": null,
   "metadata": {
    "collapsed": false,
    "slideshow": {
     "slide_type": "subslide"
    }
   },
   "outputs": [],
   "source": [
    "#move token up\n",
    "interact(move_token_up, rowID=w_rowID, wit=w_wit, __manual=True)"
   ]
  },
  {
   "cell_type": "code",
   "execution_count": null,
   "metadata": {
    "collapsed": false,
    "slideshow": {
     "slide_type": "slide"
    }
   },
   "outputs": [],
   "source": [
    "#add/delete notes\n",
    "#link add button and function\n",
    "def add_on_click(sender):\n",
    "    add_note(wit=w_wit.value, rowID=w_rowID.value, token=w_token.value, note=w_note.value)\n",
    "    #check result\n",
    "    print('Result:')\n",
    "    print_info(w_rowID.value, w_wit.value)\n",
    "    print('\\n')\n",
    "\n",
    "#add a note button\n",
    "w_add_note = widgets.Button(description='Add note', button_style='success')   \n",
    "w_add_note.on_click(add_on_click)\n",
    "\n",
    "#link del button and function\n",
    "def del_on_click(b):\n",
    "    del_note(wit=w_wit.value, rowID=w_rowID.value, token=w_token.value)\n",
    "    #check result\n",
    "    print('Result:')\n",
    "    print_info(w_rowID.value, w_wit.value)\n",
    "\n",
    "#delete a note button\n",
    "w_del_note = widgets.Button(description='Delete note', button_style='danger')\n",
    "w_del_note.on_click(del_on_click)\n",
    "\n",
    "#dislpay widgets\n",
    "display(w_wit, w_rowID, w_token, w_note)\n",
    "display(w_add_note, w_del_note)"
   ]
  },
  {
   "cell_type": "code",
   "execution_count": null,
   "metadata": {
    "collapsed": false,
    "slideshow": {
     "slide_type": "slide"
    }
   },
   "outputs": [],
   "source": [
    "#save new json\n",
    "\n",
    "#path to the new file\n",
    "path_new_json = 'json-collations/calpurnius-collation-joint-BCMNPH-corr.json'\n",
    "\n",
    "#save button to click\n",
    "w_button = widgets.Button(description=\"Save JSON\", button_style='info')\n",
    "\n",
    "#on click\n",
    "def on_button_clicked(b):\n",
    "    #save json of the whole collation\n",
    "    save_json(path_new_json, collation)\n",
    "\n",
    "#link btw button and onclick function \n",
    "w_button.on_click(on_button_clicked)\n",
    "\n",
    "#save json\n",
    "display(w_button)"
   ]
  },
  {
   "cell_type": "markdown",
   "metadata": {
    "slideshow": {
     "slide_type": "notes"
    }
   },
   "source": [
    "### Find agreements of witnesses against others <a name='part3-2'></a> [↑](#ToC)\n",
    "\n",
    "In the first drop-down menu, you will be able to choose one or more manuscript which agree together in places where all the other witnesses have a different reading. It means that if you pick only one witness you will see it's **unique variants**.\n",
    "\n",
    "On the other hand, you may want to see the **agreements of witnesses against another group of witnesses** selected in the second drop-down menu. This allows you for instance to ignore modern editors from the comparison. This option also allows to compare for groups of manuscripts to see if they share erroneous readings (or innovations), for instance.\n",
    "\n",
    "Finally, if you chose only one witness in each dropdown menu, you will be able to see the **differences between the two witnesses**."
   ]
  },
  {
   "cell_type": "code",
   "execution_count": null,
   "metadata": {
    "collapsed": false,
    "scrolled": true,
    "slideshow": {
     "slide_type": "subslide"
    }
   },
   "outputs": [],
   "source": [
    "#widget for HTML display\n",
    "w2_html = widgets.HTML(value=\"\")\n",
    "\n",
    "#selection of a group of witnesses which share the same readings\n",
    "w1 = widgets.SelectMultiple(\n",
    "    description=\"Agreements:\",\n",
    "    options=witnesses\n",
    ")\n",
    "\n",
    "#selection of a secong group of witnesses\n",
    "w2 = widgets.SelectMultiple(\n",
    "    description=\"Against:\",\n",
    "    options=witnesses\n",
    ")\n",
    "\n",
    "def collation_compare(table, a, b):\n",
    "    #transform widget tuple into actual list\n",
    "    if isinstance(a, (tuple)):\n",
    "        witlist = list(a)\n",
    "        nonwitlist = list(b)\n",
    "    else:\n",
    "        witlist = [a]\n",
    "        nonwitlist = [b]\n",
    "    if not a:\n",
    "        print(\"No witness selected.\")\n",
    "    else:\n",
    "        #set HTML display value\n",
    "        w2_html.value = table_to_html(table,compare_witnesses(table, witlist, nonwitlist))\n",
    "\n",
    "#-----------\n",
    "#save button\n",
    "w_save = widgets.Button(description=\"Save Table\", button_style='info')\n",
    "\n",
    "#description of the table\n",
    "w_descr = widgets.Text(value=\"Table description\")\n",
    "\n",
    "#path for result\n",
    "path_result = 'alignment-tables/collation.html'\n",
    "\n",
    "def on_button_clicked(x):\n",
    "    #transform widget tuple into actual list\n",
    "    if isinstance(w1.value, (tuple)):\n",
    "        witlist = list(w1.value)\n",
    "        nonwitlist = list(w2.value)\n",
    "    else:\n",
    "        witlist = [w1.value]\n",
    "        nonwitlist = [w2.value]\n",
    "    if not w1.value:\n",
    "        print(\"No table to save.\")\n",
    "    else:\n",
    "        descr = str(w_descr.value)\n",
    "        table = table_to_html_fancy(collation,compare_witnesses(collation, witlist, nonwitlist))\n",
    "        save_table(descr, table, path_result)\n",
    "\n",
    "#link button with saving action\n",
    "w_save.on_click(on_button_clicked)\n",
    "#---------------\n",
    "\n",
    "#find agreements between witnesses or unique readings\n",
    "interact(collation_compare, table=fixed(collation), a=w1, b=w2)\n",
    "\n",
    "display(w2_html)\n",
    "display(w_descr)\n",
    "display(w_save)"
   ]
  },
  {
   "cell_type": "markdown",
   "metadata": {
    "slideshow": {
     "slide_type": "slide"
    }
   },
   "source": [
    "### Search the collation <a name='part3-3'></a> [↑](#ToC)\n",
    "Basic search. It will check for token t or normalized form n, and return rows where there is at least one match. "
   ]
  },
  {
   "cell_type": "code",
   "execution_count": null,
   "metadata": {
    "collapsed": false,
    "slideshow": {
     "slide_type": "slide"
    }
   },
   "outputs": [],
   "source": [
    "#widget for HTML display\n",
    "w3_html = widgets.HTML(value=\"\")\n",
    "\n",
    "#do the search\n",
    "def search_collation(table,text):\n",
    "    w3_html.value = table_to_html(table,search(table,text))\n",
    "    \n",
    "#search collation with interactive text input\n",
    "interact(search_collation, table=fixed(collation),text=\"calpurnius\",__manual=True)\n",
    "display(w3_html)"
   ]
  },
  {
   "cell_type": "markdown",
   "metadata": {
    "slideshow": {
     "slide_type": "subslide"
    }
   },
   "source": [
    "### Clarify one reading <a name='part3-4'></a> [↑](#ToC)"
   ]
  },
  {
   "cell_type": "code",
   "execution_count": null,
   "metadata": {
    "collapsed": false,
    "slideshow": {
     "slide_type": "subslide"
    }
   },
   "outputs": [],
   "source": [
    "#459/C1, 932/M1, 9/LH\n",
    "interact(print_info, rowID=w_rowID, wit=w_wit)"
   ]
  }
 ],
 "metadata": {
  "kernelspec": {
   "display_name": "Python 3",
   "language": "python",
   "name": "python3"
  },
  "language_info": {
   "codemirror_mode": {
    "name": "ipython",
    "version": 3
   },
   "file_extension": ".py",
   "mimetype": "text/x-python",
   "name": "python",
   "nbconvert_exporter": "python",
   "pygments_lexer": "ipython3",
   "version": "3.5.1"
  },
  "livereveal": {
   "scroll": "True",
   "transition": "none"
  },
  "widgets": {
   "state": {
    "0080d6f28e4e4e7f9ab9cd0d128d13fe": {
     "views": []
    },
    "025d74d30b3e42958b0cc34a5e4e46f8": {
     "views": []
    },
    "040fb929816944ccb2d3bf29e1b74ca7": {
     "views": []
    },
    "054d970e262e4c748d5c7c1514ec13da": {
     "views": []
    },
    "05b06a49c7d8433284d770ab7d1338ed": {
     "views": []
    },
    "0722c7f181744168a10ca4126e00992b": {
     "views": []
    },
    "09654bd9a2f448f8ad93820a574977f7": {
     "views": []
    },
    "0b97477c2e464bc0ac87bd5252a914ae": {
     "views": []
    },
    "0d05a4657b0143fea8f516c560c9e15a": {
     "views": []
    },
    "0d5f531bea06456c815400b4ef4ba697": {
     "views": []
    },
    "0f3dde549803494c9d07605fabe68c2d": {
     "views": []
    },
    "0f8145e7e6e449e58e2e92d50ed36fc0": {
     "views": []
    },
    "11c49130f5a84853af13d38644f49137": {
     "views": []
    },
    "12956636948841bda84a8d866ea86e2c": {
     "views": []
    },
    "1313b16b59c34cf1a0e1b6e27f7f3737": {
     "views": []
    },
    "141a4d47c1ed439488e44c8dd38a00bf": {
     "views": []
    },
    "1694364a4cbd48309487adeeff646ae7": {
     "views": [
      {
       "cell_index": 51
      }
     ]
    },
    "16ba2cde027f42f1a34bf0b93b36ab3b": {
     "views": []
    },
    "190de69a939c4735927cfaa5189aba6b": {
     "views": []
    },
    "19683e25514d4921aa2f44f6752b88ad": {
     "views": []
    },
    "19d39cd7e22543a7ae189c0facc8a747": {
     "views": []
    },
    "1ccd274d9695454587361e784c7798d4": {
     "views": []
    },
    "1dd29ae8cf55480d94376bcb12a342e2": {
     "views": []
    },
    "1e97b70217c648bd8c6c4f9494d53caf": {
     "views": []
    },
    "1f992b42a021466a900a88201846c919": {
     "views": []
    },
    "21d294bb2a3d4397a3883612d1b9cd15": {
     "views": []
    },
    "21d923ab895a4935bfd5f3aed3a1e127": {
     "views": []
    },
    "22f0171bb77f4cc18404b4c69a1f5600": {
     "views": []
    },
    "23c11aba13c64e53a38c2106cb054d9c": {
     "views": []
    },
    "24c1182b8f574072ba89dde0632a6e97": {
     "views": []
    },
    "25f3018c4369413ebeb01111b727f990": {
     "views": []
    },
    "2748868b2b7c4e3b920698553b4e2bb4": {
     "views": []
    },
    "293c572aa6f2459ca522222ca10d88cc": {
     "views": []
    },
    "29a2b1bffb6a4131bae6ae84b38ab076": {
     "views": []
    },
    "2a254db6157e417ba590ae5135a46a67": {
     "views": [
      {
       "cell_index": 51
      }
     ]
    },
    "2ad5e06518df41278c36d8e22f1f9e62": {
     "views": []
    },
    "2b30fb8ce8cf4192bd0ad975605dd473": {
     "views": []
    },
    "2cddd65f0d824b7e983e213ef88b5467": {
     "views": []
    },
    "2d56dcd23fa44be79242fb56ba08b1e7": {
     "views": []
    },
    "2df5bb5b798f47bcb720830d1fd078c1": {
     "views": []
    },
    "30716b36334742cea51920505344ccf4": {
     "views": [
      {
       "cell_index": 48
      }
     ]
    },
    "30e68ba4820448098917ef84a0f88c21": {
     "views": []
    },
    "32ce6e95a2754eda8b870c8b3f8b8051": {
     "views": []
    },
    "337fbb5f6a9c47b8b01ab315fcf4f414": {
     "views": [
      {
       "cell_index": 48
      }
     ]
    },
    "355bd215a6bd4fd9af731acbeaaece63": {
     "views": []
    },
    "362082dfaafe4a5bb3ac45968464bc5e": {
     "views": []
    },
    "385c639505424bf7a11ae2b87c455073": {
     "views": []
    },
    "392a0fdf92ae4bdeb2c1cab8f248153e": {
     "views": []
    },
    "392b22bc5a6943b09d1733b222144f07": {
     "views": []
    },
    "3a3eb6e2ec21480ca8f2c47fdcaa1465": {
     "views": []
    },
    "3a58b7ba3fdb47d8aa1b4d2ee3d1f4a5": {
     "views": []
    },
    "3a73839626fa450ba36f67403c37511e": {
     "views": []
    },
    "3bab3c9e29eb471c953349a454e06beb": {
     "views": []
    },
    "3c2b97014cb34c0eae4feaf1342e800b": {
     "views": []
    },
    "3e50d9d0960341f7a41ccc25e363b789": {
     "views": []
    },
    "3ebf530c618844f4af08e4867ee57508": {
     "views": []
    },
    "3f0c10a475d44580a155a0ce8afb62b4": {
     "views": []
    },
    "40673d5518444b7eb64cebd6ff2618eb": {
     "views": []
    },
    "4128ea15be044666b82d1db094800a49": {
     "views": []
    },
    "41bd9a4b29f644a9a1178d6162baec9e": {
     "views": []
    },
    "437c44694365430e9364a9cf130c6ef6": {
     "views": []
    },
    "4421c8dc86d04b68931a0c495844acbc": {
     "views": [
      {
       "cell_index": 51
      }
     ]
    },
    "468e04653a324c13b037e3da76cf4091": {
     "views": []
    },
    "46c082bf19c34548aa199c7591582bc0": {
     "views": []
    },
    "48b36f3f5dc04652a1d58b608168f874": {
     "views": []
    },
    "4c42a530460c41c9a44e4127f167de67": {
     "views": []
    },
    "4e751357844d49489977694f5878d012": {
     "views": []
    },
    "5033162d39574a2e8461f5400c7185f1": {
     "views": []
    },
    "52b7352a88fd42bdb831ddf4eaeb7a3d": {
     "views": []
    },
    "5566010ca47e409f9f6ae94b3fae49bc": {
     "views": []
    },
    "570972409f414c62bc3fea290f81e98e": {
     "views": []
    },
    "57d2d3d0951f46e6a3073ce20fa0778c": {
     "views": []
    },
    "58090300aae84548a2d6c4ea569298e3": {
     "views": []
    },
    "59b05e460f8a4757b178a186caa84d8f": {
     "views": []
    },
    "59fa3c4090dd46e9933e0de834b73f7d": {
     "views": []
    },
    "5d3759ef89a74571811b4701bf19e15f": {
     "views": []
    },
    "5ed44935e12d4d578fc0882fb7a08cce": {
     "views": []
    },
    "5f2345713d2f4237b767d696b970157e": {
     "views": []
    },
    "60ab9e177c0e4f228e1d230b51c03361": {
     "views": []
    },
    "60def9f6b66a45708551c42528ee9d36": {
     "views": []
    },
    "60e3e8277844439792e70efe0c8b2a77": {
     "views": []
    },
    "6279bc3df9dd4a43b31fc7aca5fa9f3f": {
     "views": []
    },
    "62bc1c4e4f5148e1964bceea9cca0d8a": {
     "views": []
    },
    "62e58452140f4b0cbeeb898bb6a71c64": {
     "views": []
    },
    "64ab2387271841e8a0f4ceb4ac69f382": {
     "views": []
    },
    "663374d6236942efbe349d6523cd8f34": {
     "views": []
    },
    "66cd09949be9452e8612958515b0f25f": {
     "views": []
    },
    "67cb79dde52243f6b9272db746c535b8": {
     "views": []
    },
    "67fde6ea4b6d4102a0f94ce4dd395d52": {
     "views": []
    },
    "694570580ef34102b238b08ffcfd95c0": {
     "views": []
    },
    "69fecb43ede74ef4890517f9fc81bb4b": {
     "views": []
    },
    "6a75ff811371485e82c782b8becb152c": {
     "views": [
      {
       "cell_index": 45
      }
     ]
    },
    "6e6fe765902f4cc8b5a85f7ac7e312fd": {
     "views": []
    },
    "7014051a712c4f3692b7e64602a79a35": {
     "views": []
    },
    "70f0ad4bbd7f451c858c553cb7c9e03d": {
     "views": []
    },
    "7109d1190cab4e2bafc4f392f5c7c7ba": {
     "views": []
    },
    "710a3672633445139f77fca740250684": {
     "views": []
    },
    "737c21cb6e6447a3b6139dc683b4f51b": {
     "views": []
    },
    "7511bd91ce2447f981eeb73a2981f8e7": {
     "views": []
    },
    "752608da85914803bfc89556f5232a5d": {
     "views": []
    },
    "767ff992fae0420994bfa1733beb0f9e": {
     "views": []
    },
    "76de78b015e34668bed161eef1e720b3": {
     "views": []
    },
    "78430ee46391445f953c781a6af28239": {
     "views": []
    },
    "795b5414cbf244caa094a02df77f72a9": {
     "views": []
    },
    "7d272947966f42ba8cfa08155f20c2b3": {
     "views": []
    },
    "7dee8f1a310b41d19eb89b96712e7426": {
     "views": []
    },
    "7f4631023d254f91b00bd57ca48f7deb": {
     "views": []
    },
    "810852b9fd2848c2bd9990091fa84a8e": {
     "views": []
    },
    "82b73bf60c5743c9a40dd3de8ac10f61": {
     "views": []
    },
    "83412eac3d6c4b08a26faf57cc6c7c3d": {
     "views": []
    },
    "87ad08a0431b45da830a6b8ab3d87171": {
     "views": []
    },
    "880efcc00e0e483da5892d2068707ecd": {
     "views": [
      {
       "cell_index": 45
      }
     ]
    },
    "8be56f31660a46a287a943347443644a": {
     "views": []
    },
    "8e5304a6a51c434aa8407d6051b3bc8c": {
     "views": [
      {
       "cell_index": 51
      }
     ]
    },
    "8ebe4ecad3a74e56aebbdb97be78488f": {
     "views": []
    },
    "8f309f08564c4985935ecca019760f7e": {
     "views": []
    },
    "8fded89084ce4db5ba1355205f36254a": {
     "views": []
    },
    "907b57579e5046b0afbde2076e49fc9d": {
     "views": []
    },
    "954a46b1865f41ebaa188258e712c860": {
     "views": []
    },
    "95c562af34e348fe8fd0d891d9057490": {
     "views": []
    },
    "979c576568ca436482a55246eb411542": {
     "views": [
      {
       "cell_index": 50
      }
     ]
    },
    "990d1d590bdc4fe089a7d5d8c4bba367": {
     "views": []
    },
    "9a6c99c4094f4c06b8a35d460c1df279": {
     "views": []
    },
    "9a78b4728c074da2b3c6856f497068ad": {
     "views": []
    },
    "9cbcc6705ae6492780a445b78a43946c": {
     "views": []
    },
    "9e4ddc6f4d5349018ef5e4a913254c6d": {
     "views": []
    },
    "9f803d72f5634a248e30967f9f393f04": {
     "views": []
    },
    "a1b4176e6a3143118b89d34cb1c60a64": {
     "views": []
    },
    "a1e2f1a4a0ea4ee6862b5f57cf0ca87d": {
     "views": []
    },
    "a31b31ef600443199d89d6dce71965da": {
     "views": []
    },
    "a44cbbcb7c584b6495a18540d6b87975": {
     "views": []
    },
    "a4dda4f6e6f2405ea378dde347257a0b": {
     "views": []
    },
    "a7efaaf0b7254590a4988971787ae3dc": {
     "views": []
    },
    "a83cf38ef23c4c8ca5c090c6e13e4b46": {
     "views": []
    },
    "a91ab39ec3834e4e8f8245aeb29e1922": {
     "views": []
    },
    "acac500d486f4cc8a86fa82a694592a5": {
     "views": []
    },
    "acfaeca347b34d7981a4f5a5f5d80a9a": {
     "views": []
    },
    "ad7e7e2931254f0480fdcf8d31e5b5e7": {
     "views": []
    },
    "ad84d4d1dbd441a38811cf9f3da1820b": {
     "views": []
    },
    "adf2ed832d5c497ea279391b17ffaf63": {
     "views": []
    },
    "af4158e35e064d7ba94b062a079d3224": {
     "views": []
    },
    "b02c17ff058e4c2e9208dcea5f0c801d": {
     "views": []
    },
    "b22a3ca623dd4fb2b73fea773d1cee57": {
     "views": []
    },
    "b2c0419aa18c4760b7e8280fe73cbeca": {
     "views": []
    },
    "b37731b785c04808bfdc040622c10f8f": {
     "views": []
    },
    "b44c40136a004e678b330d63d195714b": {
     "views": []
    },
    "b64e8f894a6e45ff93c02f365999d90f": {
     "views": []
    },
    "b6547b6c045f46139948463d0afe036d": {
     "views": []
    },
    "b746823f8ebd4f288d15cd9c0d7a8a3f": {
     "views": []
    },
    "ba142ea2fb62454388202790685ab46d": {
     "views": []
    },
    "baa3a27f822945639c37450e22f244a8": {
     "views": []
    },
    "bbc7599696c7491a9c061fc17a480ad5": {
     "views": []
    },
    "bcff4f713ac9481f9292f53f13996c36": {
     "views": []
    },
    "becfa77c9d5b46b1a05c246f1f68dfe9": {
     "views": []
    },
    "bf8e472ed6f94f8fbf866d4ee9645606": {
     "views": []
    },
    "c1630456948c40649e4afe799d3c7b6a": {
     "views": []
    },
    "c231b5d849dd4163a91a298a71927353": {
     "views": []
    },
    "c4c306944e624bbd9841524d59dd01c8": {
     "views": []
    },
    "c4daac8166034c00bd0a14700abdd496": {
     "views": []
    },
    "c5059b464c614c7880188eab7e1d07c7": {
     "views": []
    },
    "c5326fff2ef54a82aa1a4dab4d3303b8": {
     "views": []
    },
    "c656bd26898742fc99370326193dc187": {
     "views": []
    },
    "c68afe231cd44af691cace59bbf53d5a": {
     "views": []
    },
    "c7c46e132200461ea0fe0d1fac91c409": {
     "views": [
      {
       "cell_index": 48
      }
     ]
    },
    "c9344443f34d47dd88321ac20e934a32": {
     "views": []
    },
    "cb904ec831bb4fc4a6b5a3a9a189edfe": {
     "views": []
    },
    "cc03e5dbdab94d03bd4134531596d310": {
     "views": []
    },
    "cc05c5731e804d46b458d458073777f5": {
     "views": []
    },
    "cd0bf09ca8dd46cd97df7e233bf63651": {
     "views": []
    },
    "ce4f2ae95f0c4ea696e1826b249cbf31": {
     "views": []
    },
    "cfaa82ca15b64861b29dcbaa10f7cef1": {
     "views": []
    },
    "d1336f3ed1e24f30aa7a209b691b27a4": {
     "views": []
    },
    "d1ef7b8297f14957b6e72de331a6ab38": {
     "views": []
    },
    "d63665f721f446fe8aaa6df1ea68cd6f": {
     "views": []
    },
    "d71096392ac14346aacf8c052894eec6": {
     "views": []
    },
    "d8accd2204ae4f339d206aac67d9f243": {
     "views": []
    },
    "dc6c88d2c2604a26bdef5a133417c044": {
     "views": []
    },
    "e12a2e43da004e83b14ba9cf4603fa08": {
     "views": []
    },
    "e17ad1bcdbfe4e6db74a8d89b2e2d0c3": {
     "views": []
    },
    "e29e8207bd3b41a9a76e6afc7d1209d3": {
     "views": []
    },
    "e793a9281f9d41c2a44d448fc1a5d842": {
     "views": []
    },
    "e86c93f2d779430e9cabb11dc5702e5a": {
     "views": []
    },
    "e983a1b7c5154e0ca18a6d05fa871db5": {
     "views": []
    },
    "eb42c712a3ba4522b00e5d1308681aac": {
     "views": [
      {
       "cell_index": 39
      }
     ]
    },
    "ec8f7eb5ea224259806375dd549c51a0": {
     "views": []
    },
    "ee10aa991a514b8ab60a4c15bda579f3": {
     "views": []
    },
    "ee8d0c18899944a6a6d809b9afa53973": {
     "views": []
    },
    "f18dbe28cdaf43c59705ad8ca5d8b7c4": {
     "views": []
    },
    "f39e1a9c2d664f19b86b247b621fe73f": {
     "views": []
    },
    "f3bb21e8e7a044e8a0e599126ac31cc4": {
     "views": []
    },
    "f6027b3abbed41ad80d7c31cecf9bf9b": {
     "views": []
    },
    "f6d2dabf7cf04a0283e2ac4820f6c1f5": {
     "views": []
    },
    "f84953af8f3b46198bedd8bc0cc2c726": {
     "views": []
    },
    "fc2c1d1a98704a4c9df47c7c93a0316f": {
     "views": []
    },
    "fcdbcfe3780047a694b686d5874ef92f": {
     "views": []
    },
    "fd0fb15b1e30417d92a72dfbb9f3513a": {
     "views": []
    },
    "fdbb66b77d24446ab69b983ea958f607": {
     "views": []
    },
    "fdd2ce5511d2432fa7cb73b52f6f368b": {
     "views": []
    },
    "fdd6af33a00f4a51986d09410ce145c2": {
     "views": []
    },
    "fe71b9fa9c01471590a974014ffd7398": {
     "views": []
    },
    "ff1a5335b3ce4f7d8d23759992435670": {
     "views": []
    },
    "ff95dd4fabc2418c9ed00363a9d8a41d": {
     "views": []
    }
   },
   "version": "1.1.2"
  }
 },
 "nbformat": 4,
 "nbformat_minor": 0
}
