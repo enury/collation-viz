{
 "cells": [
  {
   "cell_type": "markdown",
   "metadata": {
    "slideshow": {
     "slide_type": "skip"
    }
   },
   "source": [
    "# Exploring the collation of Calpurnius Flaccus\n",
    "\n",
    "In this notebook, I present an interactive method to manipulate the collation of the *Declamations* of Calpurnius Flaccus obtained with [CollateX](collatex.net).\n",
    "\n",
    "## Understanding the data\n",
    "\n",
    "First it is necessary to understand the structure of the collation data. [Here](http://www.w3resource.com/JSON/structures.php) you can find the generic description of json structures. An object (dictionary) is made of one or more pairs of name/value. The relation name/value is similar to the relation between a word and its definition in a dictionary. An array (list) is an ordered list of values. A json *object* corresponds to a python *dictionary*, and a json *array* to a python *list*. Lists can be combined: a table is a list of lists.\n",
    "\n",
    "There are two objects in the json collation, which are converted into their equivalent in python: \n",
    "* a list of witnesses (\"witnesses\")\n",
    "* a table with the aligned text versions (\"table\")\n",
    "\n",
    "The list of witnesses works as a header for the table, which can be itself described as:\n",
    "* a table is a list of rows\n",
    "* a row is a list of cells\n",
    "* a cell is a list of tokens\n",
    "* a token is a dictionary with the following entries:\n",
    "    * **t : exact word as it appears in the witness**\n",
    "    * n : optional normalized version of the word\n",
    "    * locus : optional exact location of the word in the manuscript/edition. Folio/page number, followed by line number\n",
    "    * note : optional comment \n",
    "    * decl: optional declamation number\n",
    "    * link : optional link to the page of a digital facsimile, where the token appears\n",
    "    \n",
    "The order of the rows is important, because it follows the order of the text. Row 0 has the first word(s) of the text, whereas the last row has also the last word(s) of the text. The row's number is called ID number, and will be used later for variant location identification.\n",
    "\n",
    "## Summary <a name=\"ToC\"></a>\n",
    "1. [Import Data](#part1).\n",
    "The first step is to import the collation results into python. \n",
    "\n",
    "2. [Functions](#part2).\n",
    "Then we will create functions to filter the data according to our need. For instance, we may want to find all the unique variants of one witness. Or we would like to see the places where one group of witnesses agrees with each other against another group of witnesses. Some functions will allow us to diplay only a section of the collation, or information specific to one variant location. Including:\n",
    "  1. [find agreements](#func2-4)\n",
    "  2. [table to html](#func2-6)\n",
    "  3. [move tokens](#func2-10)\n",
    "  4. [add/delete note](#func2-11)\n",
    "  5. [search](#func2-12)\n",
    "  6. [save](#func2-13)\n",
    "\n",
    "3. [Exploration of collation](#part3).\n",
    "Finally, we will use our functions to explore the collation of Calpurnius Flaccus, with interactive [widgets](http://ipywidgets.readthedocs.io/en/latest/index.html):\n",
    "  1. [Modify](#part3-1) collation (move tokens, add/del rows, add/del notes, save the new json)\n",
    "  2. [Find agreements](#part3-2) between witnesses, and save the result into a more complex html file\n",
    "  3. [Search](#part3-3) the collation\n",
    "  4. [Clarify](#part3-4) a reading\n",
    "\n",
    "## Notebook re-use\n",
    "Any JSON output from collateX, with **tokens \"t\"**. The other elements are optional.\n",
    "\n",
    "Some transformations may be needed. For instance:\n",
    " * In collation [import data](#import1-2) :  change the base base text. If you choose to have no base text, change also the description of the \"save_to_html\"  [function](#func2-13).\n",
    " * In the HTML template, title and credits should be updated. The transformation into complex HTML could also be adapted, according to the json model of the new user.\n",
    "\n",
    "## Possible Improvements\n",
    "- large amounts of modifications (moving many tokens at the same time)\n",
    "- find and delete empty rows automatically\n",
    "- edit notes directly\n",
    "- save file with popup window\n",
    "- etc."
   ]
  },
  {
   "cell_type": "markdown",
   "metadata": {
    "slideshow": {
     "slide_type": "skip"
    }
   },
   "source": [
    "## IMPORT DATA <a name=\"part1\"></a>"
   ]
  },
  {
   "cell_type": "markdown",
   "metadata": {
    "slideshow": {
     "slide_type": "skip"
    }
   },
   "source": [
    "### Python modules import"
   ]
  },
  {
   "cell_type": "code",
   "execution_count": 50,
   "metadata": {
    "collapsed": false,
    "slideshow": {
     "slide_type": "skip"
    }
   },
   "outputs": [],
   "source": [
    "#python modules\n",
    "import json\n",
    "import sys\n",
    "import re\n",
    "from IPython.display import display,HTML\n",
    "\n",
    "#ipywidgets modules\n",
    "from __future__ import print_function\n",
    "from ipywidgets import *\n",
    "import ipywidgets as widgets"
   ]
  },
  {
   "cell_type": "markdown",
   "metadata": {
    "slideshow": {
     "slide_type": "skip"
    }
   },
   "source": [
    "### Collation import <a name='import1-2'></a>"
   ]
  },
  {
   "cell_type": "code",
   "execution_count": 51,
   "metadata": {
    "collapsed": false,
    "slideshow": {
     "slide_type": "skip"
    }
   },
   "outputs": [
    {
     "name": "stdout",
     "output_type": "stream",
     "text": [
      "['B1', 'B2', 'C1', 'C2', 'LH', 'M1', 'M2', 'N1', 'N2', 'P1594']\n"
     ]
    }
   ],
   "source": [
    "#path to the file with json results of the collation\n",
    "path = 'json-collations/calpurnius-collation-joint-BCMNPH.json'\n",
    "#path = 'json-collations/calpurnius-collation-joint-BCMNPH-corr.json'\n",
    "\n",
    "#open the file\n",
    "with open (path, encoding='utf-8') as jsonfile:\n",
    "    #transform the json structure (arrays, objects) into python structure (lists, dictionaries)\n",
    "    data = json.load(jsonfile)\n",
    "\n",
    "#list of witnesses\n",
    "witnesses = data[\"witnesses\"]\n",
    "print(witnesses)\n",
    "\n",
    "#table of the aligned text versions\n",
    "collation = data[\"table\"]\n",
    "\n",
    "#base text: choose a witness which variants are considered true readings (in green)\n",
    "#for Calpurnius, the most recent edition of Hakanson is used as the base text\n",
    "#if you do not want a base text, set it as an empty string ''\n",
    "base_text = 'LH'\n",
    "\n",
    "#the index of a witness is its position in the witness list:\n",
    "#for instance B1 has position 0, and P1594 has position 9."
   ]
  },
  {
   "cell_type": "markdown",
   "metadata": {
    "slideshow": {
     "slide_type": "skip"
    }
   },
   "source": [
    "## FUNCTIONS <a name=\"part2\"></a> [↑](#ToC)"
   ]
  },
  {
   "cell_type": "markdown",
   "metadata": {
    "slideshow": {
     "slide_type": "skip"
    }
   },
   "source": [
    "### Transform a cell c (list of tokens) into a string of text"
   ]
  },
  {
   "cell_type": "code",
   "execution_count": 52,
   "metadata": {
    "collapsed": false,
    "slideshow": {
     "slide_type": "skip"
    }
   },
   "outputs": [],
   "source": [
    "#original text\n",
    "def cell_to_string(c):    \n",
    "    #tokens t are joined together, separated by a space\n",
    "    string = ' '.join(token['t'] for token in c)\n",
    "    return string\n",
    "\n",
    "#text with normalized tokens\n",
    "def cell_to_string_norm(c):    \n",
    "    string = ''\n",
    "    #word division is not taken into account when comparing the normalized text\n",
    "    #for this reason we do not add a space in between tokens\n",
    "    for token in c:\n",
    "        if 'n' in token:\n",
    "            string += token['n']\n",
    "        elif 't' in token:\n",
    "            string += token['t']\n",
    "    return string\n"
   ]
  },
  {
   "cell_type": "markdown",
   "metadata": {
    "slideshow": {
     "slide_type": "skip"
    }
   },
   "source": [
    "### Compare cells"
   ]
  },
  {
   "cell_type": "code",
   "execution_count": 53,
   "metadata": {
    "collapsed": false,
    "slideshow": {
     "slide_type": "skip"
    }
   },
   "outputs": [],
   "source": [
    "#compare two cells, original text\n",
    "def compare_cell(c1,c2):\n",
    "    return cell_to_string(c1) == cell_to_string(c2)\n",
    "\n",
    "#compare two cells, normalized text\n",
    "def compare_cell_norm(c1,c2):\n",
    "    return cell_to_string_norm(c1) == cell_to_string_norm(c2)    \n",
    "\n",
    "#compare a list of cells, original text\n",
    "#return true if all the cells are equivalent (they contain the same string of tokens)    \n",
    "def compare_multiple_cell(cell_list):\n",
    "    #compare each cell to the next\n",
    "    for c1,c2 in zip(cell_list, cell_list[1:]):\n",
    "        if compare_cell(c1,c2) is False:\n",
    "            comparison = False\n",
    "            break\n",
    "    else:\n",
    "        comparison = True\n",
    "    return comparison\n",
    "\n",
    "#compare a list of cells, normalized text\n",
    "#return true if all the cells are equivalent (they contain the same string of tokens)\n",
    "def compare_multiple_cell_norm(cell_list):\n",
    "    #compare each cell to the next\n",
    "    for c1,c2 in zip(cell_list, cell_list[1:]):\n",
    "        if compare_cell_norm(c1,c2) is False:\n",
    "            comparison = False\n",
    "            break\n",
    "    else:\n",
    "        comparison = True\n",
    "    return comparison"
   ]
  },
  {
   "cell_type": "markdown",
   "metadata": {
    "slideshow": {
     "slide_type": "skip"
    }
   },
   "source": [
    "### Find agreements 1"
   ]
  },
  {
   "cell_type": "code",
   "execution_count": 54,
   "metadata": {
    "collapsed": false,
    "slideshow": {
     "slide_type": "skip"
    }
   },
   "outputs": [],
   "source": [
    "#this function returns rows of the collation table (table) where a list of x witnesses (witlist) agree together.\n",
    "#we display only variant locations, and not places where all witnesses agree.\n",
    "\n",
    "def find_agreements(table, witlist):\n",
    "    result_table = []\n",
    "    \n",
    "    #transform widget tuple into actual list\n",
    "    witlist = list(witlist)\n",
    "    \n",
    "    #transform the witnesses names (sigla) into indexes\n",
    "    witindex = [witnesses.index(wit) for wit in witlist]\n",
    "    nonwitindex = [witnesses.index(wit) for wit in witnesses if wit not in witlist]\n",
    "\n",
    "    for row in table:\n",
    "        #get list of cell for the x witnesses\n",
    "        cell_list = [row[i] for i in witindex]\n",
    "        #there must be agreement of the x witnesses (normalized tokens)\n",
    "        if compare_multiple_cell_norm(cell_list) is True:\n",
    "            for i in nonwitindex:\n",
    "                #if they disagree with at least one of the others\n",
    "                if compare_cell_norm(row[witindex[0]],row[i]) is False:\n",
    "                    #add row to the result\n",
    "                    result_table.append(row)\n",
    "                    #and go to next row\n",
    "                    break\n",
    "\n",
    "    return result_table"
   ]
  },
  {
   "cell_type": "markdown",
   "metadata": {
    "slideshow": {
     "slide_type": "skip"
    }
   },
   "source": [
    "### Find agreements 2  <a name='func2-4'></a> [↑](#ToC)"
   ]
  },
  {
   "cell_type": "code",
   "execution_count": 55,
   "metadata": {
    "collapsed": false,
    "slideshow": {
     "slide_type": "skip"
    }
   },
   "outputs": [],
   "source": [
    "#This function is similar to the previous one:\n",
    "#it returns rows of the collation table (table) where a list of x witnesses (witlist) agree together, but\n",
    "#do not agree with the witnesses in a second list (nonwitlist).\n",
    "\n",
    "#By default, the function will return the agreement of the x witnesses, against all the other witnesses.\n",
    "\n",
    "def compare_witnesses(table, witlist, nonwitlist=[]):\n",
    "    result_table = []\n",
    "    \n",
    "    #first list of x witnesses which agree together\n",
    "    witindex = [witnesses.index(wit) for wit in witlist]\n",
    "    #against all the other witnesses\n",
    "    if not nonwitlist:\n",
    "        nonwitindex = [witnesses.index(wit) for wit in witnesses if wit not in witlist]\n",
    "    #except if a second list of y witnesses is specified\n",
    "    else:\n",
    "        nonwitindex = [witnesses.index(wit) for wit in nonwitlist]\n",
    "    \n",
    "    #go through the collation table, row by row\n",
    "    #to find places where the x witnesses agree together against others\n",
    "    for row in table:\n",
    "        #get list of cell for the x witnesses\n",
    "        cell_list = [row[i] for i in witindex]\n",
    "        #there must be agreement of the x witnesses (normalised tokens)\n",
    "        if compare_multiple_cell_norm(cell_list) is True:\n",
    "            for i in nonwitindex:\n",
    "                #if they agree with one of the other y witnesses\n",
    "                if compare_cell_norm(row[witindex[0]],row[i]) is True:\n",
    "                    #go to next row\n",
    "                    break\n",
    "            #but if they do not agree with any of the y witnesses        \n",
    "            else:\n",
    "                #add row to the result\n",
    "                result_table.append(row)\n",
    "    return result_table"
   ]
  },
  {
   "cell_type": "markdown",
   "metadata": {
    "slideshow": {
     "slide_type": "skip"
    }
   },
   "source": [
    "### Find all variants in the collation table"
   ]
  },
  {
   "cell_type": "code",
   "execution_count": 56,
   "metadata": {
    "collapsed": true,
    "slideshow": {
     "slide_type": "skip"
    }
   },
   "outputs": [],
   "source": [
    "def view_variants(table):\n",
    "    result_table = []\n",
    "    #go through the collation table, row by row\n",
    "    for row in table:\n",
    "        #if there is a variant in the row (i.e. at least one cell is different from another cell, normalized form)\n",
    "        if compare_multiple_cell_norm(row) is False:\n",
    "            #add row to the result\n",
    "            result_table.append(row)       \n",
    "    return result_table"
   ]
  },
  {
   "cell_type": "markdown",
   "metadata": {
    "slideshow": {
     "slide_type": "skip"
    }
   },
   "source": [
    "### Transform the result table into an html table  <a name='func2-6'></a> [↑](#ToC)"
   ]
  },
  {
   "cell_type": "code",
   "execution_count": 57,
   "metadata": {
    "collapsed": false,
    "slideshow": {
     "slide_type": "skip"
    }
   },
   "outputs": [],
   "source": [
    "#this function returns a minimal HTML table, to display in the notebook.\n",
    "\n",
    "def table_to_html(collation,table):\n",
    "    \n",
    "    #table in an HTML format\n",
    "    html_table = ''\n",
    "    #div is for a better slides view. For notebook use, comment it out\n",
    "    #html_table += '<div style=\"overflow: scroll; width:960; height:417px; word-break: break-all;\">'\n",
    "    html_table += '<table border=\"1\" style=\"width: 100%; border: 1px solid #000000; border-collapse: collapse;\" cellpadding=\"4\">'\n",
    "    \n",
    "    #add a header to the table with columns, one for each witnesses and one for the row ID\n",
    "    html_table += '<tr>'\n",
    "    #a column for each witness\n",
    "    for wit in witnesses:\n",
    "        html_table += '<th>'+wit+'</th>'\n",
    "    #optional: column for the declamation number\n",
    "    #html_table += '<th>Decl</th>'\n",
    "    #column for the row id\n",
    "    html_table += '<th>ID</th>'\n",
    "    html_table += '</tr>'\n",
    "    \n",
    "    for row in table:\n",
    "        #add a row to the html table\n",
    "        html_table += '<tr>'\n",
    "        #optional : a variable to store the declamation number (will not be defined in empty rows)\n",
    "        #declamation = 0\n",
    "        #fill row with cell for each witness\n",
    "        for cell in row:\n",
    "            #transform the tokens t into a string.\n",
    "            #we display the original tokens, not the normalized form\n",
    "            token = cell_to_string(cell)\n",
    "            \n",
    "            #some cells are empty. Thus the declamation number is only available in cell with at least 1 token\n",
    "            #if len(cell)>0:\n",
    "            #    declamation = str(cell[0]['decl'])\n",
    "            \n",
    "            #if no base text is selected, background colour will be white\n",
    "            if not base_text:\n",
    "                bg = \"white\"\n",
    "            #if the tokens are the same as the base text tokens (normalized form)\n",
    "            #it is displayed as a \"true reading\" in a green cell\n",
    "            elif compare_cell_norm(cell,row[witnesses.index(base_text)]):\n",
    "                bg = \"d9ead3\"\n",
    "            #otherwise it is diplayed as an \"error\" in a red cell\n",
    "            else:\n",
    "                bg = \"ffb1b1\"\n",
    "            html_table += '<td bgcolor=\"'+bg+'\">'+token+'</td>'\n",
    "        \n",
    "        #optional: add declamation number  \n",
    "        #html_table += '<td>'+str(location)+'</td>'\n",
    "        \n",
    "        #add row ID\n",
    "        html_table += '<td>'+str(collation.index(row))+'</td>' \n",
    "        \n",
    "        #close the row\n",
    "        html_table += '</tr>'\n",
    "    \n",
    "    #close the table\n",
    "    html_table += '</table>'\n",
    "    #html_table += '</div>'\n",
    "\n",
    "    return html_table \n",
    "    "
   ]
  },
  {
   "cell_type": "code",
   "execution_count": 58,
   "metadata": {
    "collapsed": true,
    "slideshow": {
     "slide_type": "skip"
    }
   },
   "outputs": [],
   "source": [
    "#this function returns a fancier HTML, but can't be displayed in the notebook (yet)\n",
    "\n",
    "def table_to_html_fancy(collation,table):\n",
    "    #table in an HTML format\n",
    "    html_table = '<table>'\n",
    "    \n",
    "    #add a header to the table with columns\n",
    "    html_table += '<thead><tr>'\n",
    "    #a column for each witness\n",
    "    for wit in witnesses:\n",
    "        html_table += '<th>'+'<p>'+wit+'</p>'+'</th>'\n",
    "    #a column for the row id\n",
    "    html_table += '<th><p>ID</p></th>'\n",
    "    #close header\n",
    "    html_table += '</tr></thead><tbody>'\n",
    "    \n",
    "    for row in table:\n",
    "        #add a row to the html table\n",
    "        html_table += '<tr>'\n",
    "        for cell in row:\n",
    "            #transform the tokens t into a string (original token) \n",
    "            token = cell_to_string(cell)\n",
    "            \n",
    "            #if there is no base text\n",
    "            if not base_text:\n",
    "                #arbitrary class for the HTML cells. It will have no effect on the result.\n",
    "                cl = \"foo\"\n",
    "            #if the normalized token is the same as the base text\n",
    "            #it is diplayed as a \"true reading\" in a cell with green left border\n",
    "            elif compare_cell_norm(cell,row[witnesses.index(base_text)]):\n",
    "                cl = \"green\"\n",
    "            #otherwise as an \"error\" in a cell with an orange left border\n",
    "            else:\n",
    "                cl = \"orange\"\n",
    "            #add token to the table, in a text paragraph    \n",
    "            html_table += '<td class=\"'+cl+'\">'+'<p>'+token\n",
    "            \n",
    "            #if there is a note to display, add a little 'i' to indicate there is more hidden information\n",
    "            for t in cell:\n",
    "                #in the cell, if we find a token with a note\n",
    "                if 'note' in t:\n",
    "                    #add info indicator\n",
    "                    html_table += ' <a href=\"#\" class=\"expander right\"><i class=\"fa fa-info-circle\"></i></a>'\n",
    "                    #then stop (even if there are several notes, we display only one indicator)\n",
    "                    break\n",
    "\n",
    "            #close the text paragraph in the cell\n",
    "            html_table += '</p>'\n",
    "            \n",
    "            #add paragraphs for hidden content (notes. Not limited to notes only: normalized form could be added, etc.)\n",
    "            for t in cell:\n",
    "                if 'note' in t:\n",
    "                    html_table += '<p class=\"expandable hidden more-info\">Note: '+t['note']+'</p>'\n",
    "            \n",
    "            #when the cell is not empty, add hidden info of page/line numbers. Adapted to make 'locus' optional\n",
    "            if len(cell)>0 and 'locus' in cell[0]:\n",
    "            #if len(cell)>0 :\n",
    "                #add link to images when possible\n",
    "                if 'link' in cell[0]:\n",
    "                    url = cell[0]['link']\n",
    "                    html_table += '<p class=\"expandable-row hidden more-info\"><a target=\"blank\" href='+url+'>'+cell[0]['locus']+'</a></p>'\n",
    "                else:\n",
    "                    html_table += '<p class=\"expandable-row hidden more-info\">'+cell[0]['locus']+'</p>'\n",
    "            \n",
    "            #close cell\n",
    "            html_table += '</td>'\n",
    "        \n",
    "        #add row ID with indicator of hidden content\n",
    "        html_table += '<td>'+'<p>'+str(collation.index(row))+' <a href=\"#\" class=\"expander-row right\"><i class=\"fa fa-ellipsis-v\"></i></a></p>'+'</td>' \n",
    "        #close the row\n",
    "        html_table += '</tr>'\n",
    "    #close the table\n",
    "    html_table += '</tbody></table>'\n",
    "    \n",
    "    return html_table"
   ]
  },
  {
   "cell_type": "markdown",
   "metadata": {
    "slideshow": {
     "slide_type": "skip"
    }
   },
   "source": [
    "### Print collation in a text orientation\n",
    "To read a short passage quickly. The collation table is reversed so that each witness is displayed on a row instead of a column. "
   ]
  },
  {
   "cell_type": "code",
   "execution_count": 59,
   "metadata": {
    "collapsed": false,
    "slideshow": {
     "slide_type": "skip"
    }
   },
   "outputs": [],
   "source": [
    "def print_witnesses_text(table):\n",
    "    reverse_table = [[row[i] for row in table] for i in range(len(witnesses))]\n",
    "    for index,row in enumerate(reverse_table):\n",
    "        text = ''\n",
    "        for cell in row:\n",
    "            #the row starts and ends with a token, not a space\n",
    "            if row.index(cell) == 0 or text == '' or not cell:\n",
    "                text += cell_to_string(cell)\n",
    "            #if it is not the start of the string or an empty cell, add a space to separate tokens\n",
    "            else:\n",
    "                text += ' '+cell_to_string(cell)\n",
    "        text += ', '+str(witnesses[index])\n",
    "        print(text)\n",
    "    #return reverse_table"
   ]
  },
  {
   "cell_type": "markdown",
   "metadata": {
    "slideshow": {
     "slide_type": "skip"
    }
   },
   "source": [
    "### Print information about a reading"
   ]
  },
  {
   "cell_type": "code",
   "execution_count": 60,
   "metadata": {
    "collapsed": false,
    "slideshow": {
     "slide_type": "skip"
    }
   },
   "outputs": [],
   "source": [
    "def print_info(rowID, wit):\n",
    "    #if there is no token\n",
    "    if len(collation[rowID][witnesses.index(wit)]) == 0:\n",
    "            print('-')\n",
    "    else:\n",
    "        for token in collation[rowID][witnesses.index(wit)]:\n",
    "            print(', '.join(token[feature] for feature in token))"
   ]
  },
  {
   "cell_type": "markdown",
   "metadata": {
    "slideshow": {
     "slide_type": "skip"
    }
   },
   "source": [
    "### Get the ID of a row"
   ]
  },
  {
   "cell_type": "code",
   "execution_count": 61,
   "metadata": {
    "collapsed": true,
    "slideshow": {
     "slide_type": "skip"
    }
   },
   "outputs": [],
   "source": [
    "def get_pos(row):\n",
    "    return collation.index(row)"
   ]
  },
  {
   "cell_type": "markdown",
   "metadata": {
    "slideshow": {
     "slide_type": "skip"
    }
   },
   "source": [
    "### Move a token to the previous (up) or next (down) row  <a name='func2-10'></a> [↑](#ToC)"
   ]
  },
  {
   "cell_type": "code",
   "execution_count": 62,
   "metadata": {
    "collapsed": false,
    "slideshow": {
     "slide_type": "skip"
    }
   },
   "outputs": [],
   "source": [
    "def move_token_up(rowID, wit):\n",
    "    try:\n",
    "        #select the first token\n",
    "        token = collation[rowID][witnesses.index(wit)].pop(0)\n",
    "        #append it at the end of the cell in the previous row\n",
    "        collation[rowID-1][witnesses.index(wit)].append(token)\n",
    "        print(\"Token '\"+token['t']+\"' moved up!\")\n",
    "    except:\n",
    "        print(\"There is no token to move.\")\n",
    "\n",
    "def move_token_down(rowID, wit):\n",
    "    try:\n",
    "        #select the last token\n",
    "        token = collation[rowID][witnesses.index(wit)].pop()\n",
    "        #add it at the beginning of the cell in the next row\n",
    "        collation[rowID+1][witnesses.index(wit)].insert(0, token)\n",
    "        print(\"Token '\"+token['t']+\"' moved down!\")\n",
    "    except:\n",
    "        print(\"There is no token to move.\")"
   ]
  },
  {
   "cell_type": "markdown",
   "metadata": {
    "slideshow": {
     "slide_type": "skip"
    }
   },
   "source": [
    "### Add / delete a row"
   ]
  },
  {
   "cell_type": "code",
   "execution_count": 63,
   "metadata": {
    "collapsed": false,
    "slideshow": {
     "slide_type": "skip"
    }
   },
   "outputs": [],
   "source": [
    "def add_row_after(rowID):\n",
    "    #rowID must be within collation table\n",
    "    if rowID < 0 or rowID > len(collation):\n",
    "        print('Row'+rowID+' does not exist.')\n",
    "    else:\n",
    "        #create an empty row\n",
    "        new_row = []\n",
    "        #for each witness in the collation\n",
    "        for wit in witnesses:\n",
    "            #add an empty list of tokens to the row\n",
    "            new_row.append([])\n",
    "        #insert new row in the collation, after the row passed in argument (+1)\n",
    "        collation.insert(rowID+1, new_row)\n",
    "        print('Row added!')\n",
    "    \n",
    "def delete_row(rowID):\n",
    "    #rowID must be within collation table\n",
    "    if rowID < 0 or rowID > len(collation):\n",
    "        print('Row'+rowID+' does not exist.')\n",
    "    else:\n",
    "        collation.pop(rowID)\n",
    "        print('Row deleted!')\n"
   ]
  },
  {
   "cell_type": "markdown",
   "metadata": {
    "slideshow": {
     "slide_type": "skip"
    }
   },
   "source": [
    "### Add / Delete a note  <a name='func2-11'></a> [↑](#ToC)"
   ]
  },
  {
   "cell_type": "code",
   "execution_count": 64,
   "metadata": {
    "collapsed": true,
    "slideshow": {
     "slide_type": "skip"
    }
   },
   "outputs": [],
   "source": [
    "#add or modify a note\n",
    "def add_note(wit, rowID, token, note):\n",
    "    #for each token in the witness/row selected\n",
    "    for t in collation[rowID][witnesses.index(wit)]:\n",
    "        #check that the note isn't empty and that the token corresponds to the one passed by user\n",
    "        if note is not '' and t['t'] == token:\n",
    "            if 'note' in t:\n",
    "                #add comment to already existing note\n",
    "                t['note'] += ' '+note\n",
    "            else:\n",
    "                #or create a new note\n",
    "                t['note'] = note\n",
    "        else:\n",
    "            print('Note could not be added.\\nCheck that your note is not empty, and the token is correct')\n",
    "\n",
    "#delete completely a token's note            \n",
    "def del_note(wit, rowID, token):\n",
    "    #for each token in the witnes/row selected\n",
    "    for t in collation[rowID][witnesses.index(wit)]:\n",
    "        #check that token corresponds and that note exists\n",
    "        if t['t'] == token and 'note' in t:\n",
    "            #delete note    \n",
    "            t.pop('note')\n",
    "        else:\n",
    "            #error message\n",
    "            print('There is no note to delete')"
   ]
  },
  {
   "cell_type": "markdown",
   "metadata": {
    "slideshow": {
     "slide_type": "skip"
    }
   },
   "source": [
    "### Search  <a name='func2-12'></a> [↑](#ToC)"
   ]
  },
  {
   "cell_type": "code",
   "execution_count": 65,
   "metadata": {
    "collapsed": true,
    "slideshow": {
     "slide_type": "skip"
    }
   },
   "outputs": [],
   "source": [
    "def search(table,text):\n",
    "    #result table to build\n",
    "    result_table = []\n",
    "    \n",
    "    #go through each row of the collation table\n",
    "    for row in table:\n",
    "        #go through each cell\n",
    "        for cell in row:\n",
    "            #if the search text matches the cell text (original or normalized form)\n",
    "            if text in cell_to_string_norm(cell) or text in cell_to_string(cell):\n",
    "                #add row to the result table\n",
    "                result_table.append(row)\n",
    "                #go to next row\n",
    "                break\n",
    "    \n",
    "    #if the result table is empty, the text was not found in the collation\n",
    "    if result_table == []:\n",
    "        print(text+\" was not found!\")\n",
    "    \n",
    "    return result_table"
   ]
  },
  {
   "cell_type": "markdown",
   "metadata": {
    "slideshow": {
     "slide_type": "skip"
    }
   },
   "source": [
    "### Save results  <a name='func2-13'></a> [↑](#ToC)"
   ]
  },
  {
   "cell_type": "code",
   "execution_count": 66,
   "metadata": {
    "collapsed": false,
    "slideshow": {
     "slide_type": "skip"
    }
   },
   "outputs": [],
   "source": [
    "#save the json file with update in the collation table\n",
    "def save_json(path, table):\n",
    "    #combine new collation table with witnesses, so as to have one data variable\n",
    "    data = {'witnesses':witnesses, 'table':table}\n",
    "    #open a file according to path\n",
    "    with open(path, 'w') as outfile:\n",
    "        #write the data in json format\n",
    "        json.dump(data, outfile)"
   ]
  },
  {
   "cell_type": "code",
   "execution_count": 67,
   "metadata": {
    "collapsed": false,
    "slideshow": {
     "slide_type": "skip"
    }
   },
   "outputs": [],
   "source": [
    "#save a subset of the collation table into fancy HTML version, with a small text description\n",
    "def save_table(descr, table, path):\n",
    "    #path to template\n",
    "    template_path = 'alignment-tables/template.html'\n",
    "    \n",
    "    #load the text of the template into a variable html\n",
    "    with open(template_path, 'r', encoding='utf-8') as infile:\n",
    "        html = infile.read()\n",
    "    \n",
    "    #add base text to description\n",
    "    if base_text:\n",
    "        descr += '<br>Agreement with the base text '+base_text+' is marked in green.'\n",
    "        descr += ' Variation from '+base_text+' is marked in red.' \n",
    "        \n",
    "    #modify template: replace the comment with descr paragraph\n",
    "    html = re.sub(r'<!--descr-->',descr,html)\n",
    "    \n",
    "    #modify template: replace the comment with table\n",
    "    html = re.sub(r'<!--table-->',table,html)\n",
    "    \n",
    "    #save\n",
    "    with open(path, 'w', encoding='utf-8') as outfile:\n",
    "        outfile.write(html)\n"
   ]
  },
  {
   "cell_type": "markdown",
   "metadata": {
    "slideshow": {
     "slide_type": "slide"
    }
   },
   "source": [
    "## INTERACTIVE EXPLORATION OF THE COLLATION TABLE <a name=\"part3\"></a> [↑](#ToC)"
   ]
  },
  {
   "cell_type": "markdown",
   "metadata": {
    "slideshow": {
     "slide_type": "notes"
    }
   },
   "source": [
    "### Update the collation results <a name='part3-1'></a> [↑](#ToC)\n",
    "In this section, we will see how to view a selection of the collation table and update it.\n",
    "\n",
    "Possible updates:\n",
    "  1. Add/delete a row\n",
    "  3. Move one token up/down\n",
    "  4. Add notes\n",
    "  3. Save\n",
    "\n",
    "**Note** : it is only possible to move the last token (or word) in a cell down to the first place in the next cell; or vice-versa to move the first token of a cell up to the last place in the previous cell. This is to prevent any change in the word order of a witness, and *to keep the correct text sequence*."
   ]
  },
  {
   "cell_type": "code",
   "execution_count": 68,
   "metadata": {
    "collapsed": false,
    "slideshow": {
     "slide_type": "slide"
    }
   },
   "outputs": [],
   "source": [
    "#select an extract of the collation table with interactive widgets\n",
    "\n",
    "#widget for HTML display\n",
    "w1_html = widgets.HTML(value=\"\")\n",
    "\n",
    "#define the beginning of extract\n",
    "w_from = widgets.BoundedIntText(\n",
    "    value=6,\n",
    "    min=0,\n",
    "    max=len(collation)-1,\n",
    "    description='From:',\n",
    ")\n",
    "\n",
    "#define the end of extract\n",
    "#because of python list slicing, the last number is not included in the result.\n",
    "#to make it more intuitive, the \"to\" number is added +1 in collation_extract function\n",
    "w_to = widgets.BoundedIntText(\n",
    "    value=11,\n",
    "    min=0,\n",
    "    max=len(collation)-1,\n",
    "    description='To:',\n",
    ")\n",
    "\n",
    "#binding widgets with table_to_html function\n",
    "def collation_extract(a, b):\n",
    "    x = a\n",
    "    y = b+1\n",
    "    w1_html.value = table_to_html(collation,collation[x:y])\n",
    "\n",
    "#interactive selection of a collation table extract\n",
    "interact(collation_extract, a=w_from, b=w_to)\n",
    "#display HTML widget (rows 6-11)\n",
    "display(w1_html)"
   ]
  },
  {
   "cell_type": "code",
   "execution_count": 69,
   "metadata": {
    "collapsed": false,
    "slideshow": {
     "slide_type": "skip"
    }
   },
   "outputs": [],
   "source": [
    "#Widgets for:\n",
    "#move tokens up/down\n",
    "#add/delete rows\n",
    "#add/delete notes to a specific token\n",
    "\n",
    "#widget to select a witness        \n",
    "w_wit = widgets.Dropdown(\n",
    "    options = witnesses,\n",
    "    value = 'LH',\n",
    "    description = 'Witness:',\n",
    ")\n",
    "#widget to select a row\n",
    "w_rowID = widgets.BoundedIntText(\n",
    "    value=9,\n",
    "    min=0,\n",
    "    max=len(collation),\n",
    "    description='ID:',\n",
    ")\n",
    "#widget to select a specific token\n",
    "w_token = widgets.Text(\n",
    "    description = 'Token:',\n",
    "    value = 'proximi'\n",
    ")\n",
    "#widget to enter text note\n",
    "w_note = widgets.Text(\n",
    "    description = 'Note:',\n",
    ")"
   ]
  },
  {
   "cell_type": "code",
   "execution_count": 70,
   "metadata": {
    "collapsed": false,
    "slideshow": {
     "slide_type": "subslide"
    }
   },
   "outputs": [
    {
     "data": {
      "text/plain": [
       "<function __main__.add_row_after>"
      ]
     },
     "execution_count": 70,
     "metadata": {},
     "output_type": "execute_result"
    }
   ],
   "source": [
    "#add row after\n",
    "interact(add_row_after, rowID=w_rowID, __manual=True)"
   ]
  },
  {
   "cell_type": "code",
   "execution_count": 71,
   "metadata": {
    "collapsed": false,
    "slideshow": {
     "slide_type": "subslide"
    }
   },
   "outputs": [
    {
     "data": {
      "text/plain": [
       "<function __main__.delete_row>"
      ]
     },
     "execution_count": 71,
     "metadata": {},
     "output_type": "execute_result"
    }
   ],
   "source": [
    "#delete row\n",
    "interact(delete_row, rowID=w_rowID, __manual=True)"
   ]
  },
  {
   "cell_type": "code",
   "execution_count": 72,
   "metadata": {
    "collapsed": false,
    "slideshow": {
     "slide_type": "subslide"
    }
   },
   "outputs": [
    {
     "data": {
      "text/plain": [
       "<function __main__.move_token_down>"
      ]
     },
     "execution_count": 72,
     "metadata": {},
     "output_type": "execute_result"
    }
   ],
   "source": [
    "#move token down\n",
    "interact(move_token_down, rowID=w_rowID, wit=w_wit, __manual=True)"
   ]
  },
  {
   "cell_type": "code",
   "execution_count": 73,
   "metadata": {
    "collapsed": false,
    "slideshow": {
     "slide_type": "subslide"
    }
   },
   "outputs": [
    {
     "data": {
      "text/plain": [
       "<function __main__.move_token_up>"
      ]
     },
     "execution_count": 73,
     "metadata": {},
     "output_type": "execute_result"
    }
   ],
   "source": [
    "#move token up\n",
    "interact(move_token_up, rowID=w_rowID, wit=w_wit, __manual=True)"
   ]
  },
  {
   "cell_type": "code",
   "execution_count": 74,
   "metadata": {
    "collapsed": false,
    "slideshow": {
     "slide_type": "slide"
    }
   },
   "outputs": [],
   "source": [
    "#add/delete notes\n",
    "#link add button and function\n",
    "def add_on_click(sender):\n",
    "    add_note(wit=w_wit.value, rowID=w_rowID.value, token=w_token.value, note=w_note.value)\n",
    "    #check result\n",
    "    print('Result:')\n",
    "    print_info(w_rowID.value, w_wit.value)\n",
    "    print('\\n')\n",
    "\n",
    "#add a note button\n",
    "w_add_note = widgets.Button(description='Add note', button_style='success')   \n",
    "w_add_note.on_click(add_on_click)\n",
    "\n",
    "#link del button and function\n",
    "def del_on_click(b):\n",
    "    del_note(wit=w_wit.value, rowID=w_rowID.value, token=w_token.value)\n",
    "    #check result\n",
    "    print('Result:')\n",
    "    print_info(w_rowID.value, w_wit.value)\n",
    "\n",
    "#delete a note button\n",
    "w_del_note = widgets.Button(description='Delete note', button_style='danger')\n",
    "w_del_note.on_click(del_on_click)\n",
    "\n",
    "#dislpay widgets\n",
    "display(w_wit, w_rowID, w_token, w_note)\n",
    "display(w_add_note, w_del_note)"
   ]
  },
  {
   "cell_type": "code",
   "execution_count": 75,
   "metadata": {
    "collapsed": false,
    "slideshow": {
     "slide_type": "slide"
    }
   },
   "outputs": [],
   "source": [
    "#save new json\n",
    "\n",
    "#path to the new file\n",
    "path_new_json = 'json-collations/calpurnius-collation-joint-BCMNPH-corr.json'\n",
    "\n",
    "#save button to click\n",
    "w_button = widgets.Button(description=\"Save JSON\", button_style='info')\n",
    "\n",
    "#on click\n",
    "def on_button_clicked(b):\n",
    "    #save json of the whole collation\n",
    "    save_json(path_new_json, collation)\n",
    "\n",
    "#link btw button and onclick function \n",
    "w_button.on_click(on_button_clicked)\n",
    "\n",
    "#save json\n",
    "display(w_button)"
   ]
  },
  {
   "cell_type": "markdown",
   "metadata": {
    "slideshow": {
     "slide_type": "notes"
    }
   },
   "source": [
    "### Find agreements of witnesses against others <a name='part3-2'></a> [↑](#ToC)\n",
    "\n",
    "In the first drop-down menu, you will be able to choose one or more witness(es) which agree together in places where all the other witnesses have a different reading. It means that, if you pick only one witness, you will see it's **unique variants**.\n",
    "\n",
    "On the other hand, you may want to see the **agreements of witnesses against another group of witnesses** selected in the second drop-down menu. This allows you for instance to ignore modern editors from the comparison. This option also allows to compare for groups of witnesses to see if they share erroneous readings (or innovations), for instance.\n",
    "\n",
    "Finally, if you chose only one witness in each dropdown menu, you will be able to see the **differences between the two witnesses**."
   ]
  },
  {
   "cell_type": "code",
   "execution_count": 76,
   "metadata": {
    "collapsed": false,
    "scrolled": true,
    "slideshow": {
     "slide_type": "subslide"
    }
   },
   "outputs": [
    {
     "name": "stdout",
     "output_type": "stream",
     "text": [
      "No witness selected.\n"
     ]
    }
   ],
   "source": [
    "#widget for HTML display\n",
    "w2_html = widgets.HTML(value=\"\")\n",
    "\n",
    "#selection of a group of witnesses which share the same readings\n",
    "w1 = widgets.SelectMultiple(\n",
    "    description=\"Agreements:\",\n",
    "    options=witnesses\n",
    ")\n",
    "\n",
    "#selection of a secong group of witnesses\n",
    "w2 = widgets.SelectMultiple(\n",
    "    description=\"Against:\",\n",
    "    options=witnesses\n",
    ")\n",
    "\n",
    "def collation_compare(table, a, b):\n",
    "    #transform widget tuple into actual list\n",
    "    if isinstance(a, (tuple)):\n",
    "        witlist = list(a)\n",
    "        nonwitlist = list(b)\n",
    "    else:\n",
    "        witlist = [a]\n",
    "        nonwitlist = [b]\n",
    "    if not a:\n",
    "        print(\"No witness selected.\")\n",
    "    else:\n",
    "        #set HTML display value\n",
    "        w2_html.value = table_to_html(table,compare_witnesses(table, witlist, nonwitlist))\n",
    "\n",
    "#-----------\n",
    "#save button\n",
    "w_save = widgets.Button(description=\"Save Table\", button_style='info')\n",
    "\n",
    "#description of the table\n",
    "w_descr = widgets.Text(value=\"Table description\")\n",
    "\n",
    "#path for result\n",
    "path_result = 'alignment-tables/collation.html'\n",
    "\n",
    "def on_button_clicked(x):\n",
    "    #transform widget tuple into actual list\n",
    "    if isinstance(w1.value, (tuple)):\n",
    "        witlist = list(w1.value)\n",
    "        nonwitlist = list(w2.value)\n",
    "    else:\n",
    "        witlist = [w1.value]\n",
    "        nonwitlist = [w2.value]\n",
    "    if not w1.value:\n",
    "        print(\"No table to save.\")\n",
    "    else:\n",
    "        descr = str(w_descr.value)\n",
    "        table = table_to_html_fancy(collation,compare_witnesses(collation, witlist, nonwitlist))\n",
    "        save_table(descr, table, path_result)\n",
    "\n",
    "#link button with saving action\n",
    "w_save.on_click(on_button_clicked)\n",
    "#---------------\n",
    "\n",
    "#find agreements between witnesses or unique readings\n",
    "interact(collation_compare, table=fixed(collation), a=w1, b=w2)\n",
    "\n",
    "display(w2_html)\n",
    "display(w_descr)\n",
    "display(w_save)"
   ]
  },
  {
   "cell_type": "markdown",
   "metadata": {
    "slideshow": {
     "slide_type": "slide"
    }
   },
   "source": [
    "### Search the collation <a name='part3-3'></a> [↑](#ToC)\n",
    "Basic search. It will check for token t or normalized form n, and return rows where there is at least one match. "
   ]
  },
  {
   "cell_type": "code",
   "execution_count": 77,
   "metadata": {
    "collapsed": false,
    "slideshow": {
     "slide_type": "slide"
    }
   },
   "outputs": [],
   "source": [
    "#widget for HTML display\n",
    "w3_html = widgets.HTML(value=\"\")\n",
    "\n",
    "#do the search\n",
    "def search_collation(table,text):\n",
    "    w3_html.value = table_to_html(table,search(table,text))\n",
    "    \n",
    "#search collation with interactive text input\n",
    "interact(search_collation, table=fixed(collation),text=\"calpurnius\",__manual=True)\n",
    "display(w3_html)"
   ]
  },
  {
   "cell_type": "markdown",
   "metadata": {
    "slideshow": {
     "slide_type": "subslide"
    }
   },
   "source": [
    "### Clarify one reading <a name='part3-4'></a> [↑](#ToC)"
   ]
  },
  {
   "cell_type": "code",
   "execution_count": 78,
   "metadata": {
    "collapsed": false,
    "slideshow": {
     "slide_type": "subslide"
    }
   },
   "outputs": [
    {
     "name": "stdout",
     "output_type": "stream",
     "text": [
      "-\n"
     ]
    },
    {
     "data": {
      "text/plain": [
       "<function __main__.print_info>"
      ]
     },
     "execution_count": 78,
     "metadata": {},
     "output_type": "execute_result"
    }
   ],
   "source": [
    "#459/C1, 932/M1, 9/LH\n",
    "interact(print_info, rowID=w_rowID, wit=w_wit)"
   ]
  }
 ],
 "metadata": {
  "kernelspec": {
   "display_name": "Python 3",
   "language": "python",
   "name": "python3"
  },
  "language_info": {
   "codemirror_mode": {
    "name": "ipython",
    "version": 3
   },
   "file_extension": ".py",
   "mimetype": "text/x-python",
   "name": "python",
   "nbconvert_exporter": "python",
   "pygments_lexer": "ipython3",
   "version": "3.5.1"
  },
  "livereveal": {
   "scroll": "True",
   "transition": "none"
  },
  "widgets": {
   "state": {
    "0081ca1d280749c78c0fd9baf5756ea7": {
     "views": []
    },
    "01b7eee0806a449ca35e389e68426b13": {
     "views": []
    },
    "0244ff97ced2476e985d5b869e4c515e": {
     "views": []
    },
    "038da1af6745461681a05ab9bce978ec": {
     "views": []
    },
    "0446e5f5cf88468cbc71c478551da5da": {
     "views": [
      {
       "cell_index": 41
      }
     ]
    },
    "0609fc29a36b46918cf53335d616b8d5": {
     "views": [
      {
       "cell_index": 45
      }
     ]
    },
    "07dec2829c344ca582227aee089e2fca": {
     "views": []
    },
    "08fa00cbb10046e081c6203dfa5113be": {
     "views": []
    },
    "09295b6560864358ae8b31d2d32ad94e": {
     "views": []
    },
    "0ca1e34d60e34945a1f09e040337ae07": {
     "views": [
      {
       "cell_index": 42
      }
     ]
    },
    "0ca454e4906946db8df9236a8a0bbdfd": {
     "views": []
    },
    "0f03394869724ca9877d90fbdaca550b": {
     "views": []
    },
    "0fc5dd551ad64b7caafb8c8cb3bc9a8f": {
     "views": []
    },
    "102ef8be2e364f4a86504d38abcad7f4": {
     "views": []
    },
    "1168c62541694219be389a6c204da0e9": {
     "views": [
      {
       "cell_index": 52
      }
     ]
    },
    "12d4e0d613f34022b5faef70e1dd98a9": {
     "views": [
      {
       "cell_index": 45
      }
     ]
    },
    "12f8934fce294d8a8b5fcb5e9c7bf35d": {
     "views": []
    },
    "148997e8010244148b7ff61f772851f8": {
     "views": []
    },
    "153af229473d472286c571d5f13f18bd": {
     "views": []
    },
    "15e3ae1dc0df4cdb9a6ae818c05bfe3f": {
     "views": []
    },
    "16a19c897c8442119142826e20f732e4": {
     "views": [
      {
       "cell_index": 39
      }
     ]
    },
    "16d6fd9507134356b980ee5a86229db3": {
     "views": []
    },
    "1752935f78dc4380adc2a9bd70f4bc35": {
     "views": []
    },
    "1819e766786b4b1fbccdebbf5db5c9ce": {
     "views": []
    },
    "19056bc4b99d42ffb12027398c5730f8": {
     "views": []
    },
    "19a0340ca0904d6b94749005badfdc54": {
     "views": []
    },
    "1bd0b60b99eb4cfb9c3559e9901d4567": {
     "views": [
      {
       "cell_index": 48
      }
     ]
    },
    "1c681eefea5b450c9c6705e6cc300328": {
     "views": []
    },
    "1cd563db75a342129ae82ff1cae48d02": {
     "views": [
      {
       "cell_index": 39
      }
     ]
    },
    "1d3b69475f614544ac8e52817a7bc1ea": {
     "views": [
      {
       "cell_index": 39
      }
     ]
    },
    "1dace08c90f14f56b46e94f193a7b147": {
     "views": []
    },
    "1e428f932f80486b887068f45c32af94": {
     "views": []
    },
    "1fbfcf9d7709418aa28c4de7e685a864": {
     "views": []
    },
    "23437aa1bb504940ab8cac6b2de7da8d": {
     "views": []
    },
    "239559ba38ee40949c430b137fdf24fc": {
     "views": []
    },
    "23d83c59e5ac484b8225ac30ad3cba15": {
     "views": []
    },
    "24869472a3fd4f14a42beb8da4919e84": {
     "views": []
    },
    "250173ed4f574e28808e63a7324836f1": {
     "views": []
    },
    "265683d70c6a43d5bd803c2428f668f0": {
     "views": []
    },
    "26827d49f4e5410e838f9390abfea577": {
     "views": []
    },
    "26e492960eb44a878c7b308241da565c": {
     "views": []
    },
    "274fc0a59e654f7fa2f1dcb37bd256a8": {
     "views": [
      {
       "cell_index": 45
      }
     ]
    },
    "2896af9a784b411c88433614b27e9cf3": {
     "views": []
    },
    "28b0da7de6db4de4b7d05d12203037c1": {
     "views": []
    },
    "2b0c2074a78345e0814032de003b11ae": {
     "views": []
    },
    "2ccacff9e6f0488a9c766a78d81b14ed": {
     "views": []
    },
    "2d7699dcdf214ee398212b0895cc6746": {
     "views": []
    },
    "2e4045712a4a43a48818da5ab4ed505c": {
     "views": [
      {
       "cell_index": 45
      }
     ]
    },
    "2f007ff5deda4d64892add75014293ae": {
     "views": []
    },
    "2fbd54453c3749f08b4d10bb7e895a29": {
     "views": []
    },
    "30450e3768ae465ab55991bfb64b5629": {
     "views": []
    },
    "328d91c32b054dceb955333dd34cf779": {
     "views": []
    },
    "33bbece7d65942f88359c9e780c4cf8a": {
     "views": [
      {
       "cell_index": 48
      }
     ]
    },
    "33e78feffc2b47a9a55d1529522a6593": {
     "views": []
    },
    "366e7cc21b80459e8d518bd7ce2edc84": {
     "views": [
      {
       "cell_index": 45
      }
     ]
    },
    "36c38453a8d84787b9c7fa5da16f3d49": {
     "views": []
    },
    "372cac23f16f4cafb866fdaa5ca58c74": {
     "views": []
    },
    "380ef5419bb143ffa47ff22680d51434": {
     "views": []
    },
    "3912ea4d485841be83b45a1d4651d02b": {
     "views": []
    },
    "3d5508db1aa542cb8c428f50886d51a1": {
     "views": []
    },
    "3dc2a9313971419e9e53bc8d0b1acd4a": {
     "views": [
      {
       "cell_index": 43
      }
     ]
    },
    "3ebdeb504e534ff1acc44b3f9fa009f4": {
     "views": []
    },
    "3f55a89008cf4a86a7c7373cf9d6d3d2": {
     "views": []
    },
    "3f7ef1349c9f43adbfea90368739fe64": {
     "views": [
      {
       "cell_index": 50
      }
     ]
    },
    "40c996da04fc472db92125d537f2fa41": {
     "views": []
    },
    "40f66b2fac374432a3b6a1cfb7955771": {
     "views": []
    },
    "422f2e9f8b254b36a2488f58169df3fe": {
     "views": []
    },
    "4230330ca9784f33971f58e61280f60a": {
     "views": []
    },
    "42b1b92401e1483da7622bc8c48336ce": {
     "views": []
    },
    "42f3749b79e04f69b18418aef9c5da22": {
     "views": [
      {
       "cell_index": 48
      }
     ]
    },
    "44cadfacddb946ff8b4c5123218776f9": {
     "views": [
      {
       "cell_index": 50
      }
     ]
    },
    "45fe4c858a7549cb82a16391ccb8eaab": {
     "views": []
    },
    "46877817bf104cc48d0013605407fae0": {
     "views": []
    },
    "4821e60cc61b4cb8be22a305d376d95b": {
     "views": []
    },
    "48b2b5b853e6411582098b852db913b8": {
     "views": []
    },
    "4a68000714f044b7b811f5a2ad51ed06": {
     "views": []
    },
    "4aa8e8e795ff464f9d74a0dd009dd228": {
     "views": []
    },
    "4afc82a1871948dfb1b4292c67eea952": {
     "views": []
    },
    "4b5167ec334942a2944e6dfc9f893eda": {
     "views": []
    },
    "4be48da97fc84295b1d3962757c58238": {
     "views": []
    },
    "4ce7ba7ac9a9460cafa92f1663468a97": {
     "views": [
      {
       "cell_index": 44
      }
     ]
    },
    "51a46b06d4104c49b310ed6b5a1a9613": {
     "views": []
    },
    "527e61e9a30b4e34a45e5286eb84f882": {
     "views": []
    },
    "54d3e05e5047420692131539574fc7b2": {
     "views": [
      {
       "cell_index": 48
      }
     ]
    },
    "54d8d442c0254641acc173f5dba2df30": {
     "views": [
      {
       "cell_index": 45
      }
     ]
    },
    "5532be871dcd4fa797203a4816d130b5": {
     "views": [
      {
       "cell_index": 46
      }
     ]
    },
    "566ae436493b4769be8cb4e9fd6cde77": {
     "views": []
    },
    "569baae4df9041dbac72dc40a5568e3a": {
     "views": []
    },
    "57fe795c7ccd44f192ea2fb1c005ed4e": {
     "views": []
    },
    "59bdc5ec39894ab8a2e5afa776ddf549": {
     "views": []
    },
    "59cc4ca35e374e68ace76671caee1dae": {
     "views": []
    },
    "5cc5ff26afa3467bac893352c8dcd2a2": {
     "views": [
      {
       "cell_index": 39
      }
     ]
    },
    "607cdd46a50a47ebb20d99216b10fcc6": {
     "views": []
    },
    "60a0baa94def4f689834c298da79ba3a": {
     "views": [
      {
       "cell_index": 50
      }
     ]
    },
    "60adec3881d845eb8746246a005d8853": {
     "views": []
    },
    "60c3cfb0762344599ced47ebc2d42ee7": {
     "views": []
    },
    "625303177bcb4b44965beb02af34487b": {
     "views": []
    },
    "63cd8150fe614798a4e748bdd49629fb": {
     "views": []
    },
    "6427a3c6a43041abbca0be63c28fad90": {
     "views": []
    },
    "65a421327e8b472fbe0c236221e20b3f": {
     "views": []
    },
    "65c8914873f04dd5ba2b1b5853c9855c": {
     "views": []
    },
    "66ce5297ed164b38a35dde887f9fa04c": {
     "views": [
      {
       "cell_index": 48
      }
     ]
    },
    "66f09aaaa9a14351a8d50fce87dc504f": {
     "views": []
    },
    "6703aa9d3fe64df492b9d2fafcdbdd31": {
     "views": [
      {
       "cell_index": 45
      }
     ]
    },
    "673ea676a8e94371a70661aa15737d0b": {
     "views": []
    },
    "686e79b9ff2d4e09931da3ee3191f08e": {
     "views": []
    },
    "68720fd2e0764a80950e6f4f776115c6": {
     "views": []
    },
    "68c69686250248e4b33e7ef59a05ba93": {
     "views": []
    },
    "6a6f6f4c6672413495d698553ca18319": {
     "views": []
    },
    "6dadee4c10a9489c9c485c6b69631b6d": {
     "views": []
    },
    "6f021cced51c4931a936c8afe91502bd": {
     "views": [
      {
       "cell_index": 39
      }
     ]
    },
    "6f90c40cc3dc41008510ccd724b103e3": {
     "views": []
    },
    "70103a6ac5854aa4a0ec252bae28687b": {
     "views": []
    },
    "709df9c0a27d4dfaa868fa52c7432f24": {
     "views": [
      {
       "cell_index": 45
      }
     ]
    },
    "7172da8d5f544a12b6c7b171e9c16a35": {
     "views": []
    },
    "7313503e7bf64fbfa8ee3bacb803f0d4": {
     "views": []
    },
    "733bc49ef98b4e3b8d547b5cedb94a94": {
     "views": []
    },
    "73f8d5095228408d821e58d07ae84b1e": {
     "views": [
      {
       "cell_index": 39
      }
     ]
    },
    "754a41c54c18487f98b5553b2ce77b5c": {
     "views": []
    },
    "77530094a86248459d2d3ccf44fad6d8": {
     "views": []
    },
    "7914b4f6431d422fa6abad3003a666f5": {
     "views": []
    },
    "7919b4a4ce8847b19a32c2e8d4c96fdf": {
     "views": []
    },
    "7a34340000174db5baa4d2e595426fee": {
     "views": []
    },
    "7a4d3f83197f4037997747cfc3327303": {
     "views": []
    },
    "7bb140f5148b4fea97167996120a55fc": {
     "views": [
      {
       "cell_index": 45
      }
     ]
    },
    "7d34cef541594bcfa825809eefecec60": {
     "views": []
    },
    "7d5cc67175ef443f9fb17ebcd1f7b95f": {
     "views": [
      {
       "cell_index": 45
      }
     ]
    },
    "7db7ef450d354b7a8b7116dcdccd1a7b": {
     "views": []
    },
    "7dd4b529b9f44171ab56dc9b519ac57e": {
     "views": []
    },
    "7eddae176153404882a5242ef76e4a11": {
     "views": []
    },
    "7f0416b15723427d843e9444eef611b0": {
     "views": []
    },
    "8074616ba97a4fb58d7ce44d8e97fb88": {
     "views": []
    },
    "80aca11d7e154d93b47e4cde5402583c": {
     "views": []
    },
    "812e3dd3db2045b4858af4b354009236": {
     "views": []
    },
    "8151770f11d24752a2507e01941ff5b9": {
     "views": []
    },
    "81542ad7f52543ee9c7edca68bb434fd": {
     "views": []
    },
    "83e688d481174e35b193e4e2c2cb00f1": {
     "views": []
    },
    "842f5a2ca15440578d6921e9b05fc7e7": {
     "views": []
    },
    "84d65c766a994eebab0609e9e5414c12": {
     "views": []
    },
    "852e8e8ad4844860a6135eb98f7ec96e": {
     "views": [
      {
       "cell_index": 48
      }
     ]
    },
    "871587834b454105998c7dc138778259": {
     "views": []
    },
    "87db54a8c5c04fb7ba919a2f9782f886": {
     "views": []
    },
    "8ac506b3580b45cea8bac4eaccfef4a8": {
     "views": []
    },
    "8b8fa55618c04f31a699bc729da10bc0": {
     "views": []
    },
    "8c58f59b55c647049f729ff6058df74c": {
     "views": []
    },
    "8c952e2222b14043b84cdc498d0bdc5a": {
     "views": []
    },
    "8e4d3a89cad5412fb9e86dd7519d1921": {
     "views": []
    },
    "8fa25bc494b84544b86fabaad87b0beb": {
     "views": []
    },
    "8ff881b916094deca4cd82adead24a8e": {
     "views": []
    },
    "9037186130bc46429b85b723ecbf8246": {
     "views": []
    },
    "90baa68b879341be97455ecf5c08ab02": {
     "views": [
      {
       "cell_index": 45
      }
     ]
    },
    "9328bd537c34439698b28a12100013ec": {
     "views": []
    },
    "969fc27125a94c2b8019aa47e76a1164": {
     "views": []
    },
    "980f3b07eeb74acb8224fa9bc9a6ab23": {
     "views": []
    },
    "99b9246b99e54dfbbe737e6e06e54173": {
     "views": []
    },
    "9a6a03cc8ba142bbafa8a2ec7078960b": {
     "views": []
    },
    "9c419bd9cd2e4e86af1769e6da54c7a0": {
     "views": []
    },
    "9d67ac76be1848098852c1461302be0d": {
     "views": []
    },
    "9e3e1b4d0080489ea40742c142137aeb": {
     "views": []
    },
    "9edc1b9c045244f793f37e443e1f1e30": {
     "views": []
    },
    "9f29f6df02b1452b94f27178a5854a99": {
     "views": []
    },
    "a0defab9df754c28b9466a7979a731ab": {
     "views": []
    },
    "a271eee52cf24331b89dcd0be6ff11c8": {
     "views": []
    },
    "a2c4da289ae7473b86791a6d62f906a3": {
     "views": []
    },
    "a2c9a0718b5f4b118cc6d68de40bb4d4": {
     "views": []
    },
    "a30c26b5a2614b018de8489581f146f4": {
     "views": []
    },
    "a5eabb9f12284a7c8aeec4ec00d6fe53": {
     "views": []
    },
    "a7b6321838854d8c8b6e3c49f4d991bf": {
     "views": [
      {
       "cell_index": 39
      }
     ]
    },
    "aa97697b76874df89b50e8b7f65dc9eb": {
     "views": []
    },
    "aacf45a3cca743be8f85e6c40a36b192": {
     "views": []
    },
    "ab02536eb8344f1b98ca273f66dc5fd1": {
     "views": []
    },
    "abf7f4e7f1344852b7d64e77b7218b40": {
     "views": []
    },
    "ad6d0e9df0f74db5b3bcd56824c8f936": {
     "views": []
    },
    "ad9cf68fb37e47b6872ffd1bb6c509cc": {
     "views": []
    },
    "af154f04ec4a48abaf7ccef795bf9ea0": {
     "views": []
    },
    "afb69d0e1c854be9a578a70c8d03c2d7": {
     "views": []
    },
    "afc2659461944874b20df5ec8b445a9f": {
     "views": [
      {
       "cell_index": 50
      }
     ]
    },
    "affdfea36603477785069ac86b147e3f": {
     "views": []
    },
    "b0f35af461f74d5893aee207b249a71b": {
     "views": []
    },
    "b4a8e88c7040427d9bbf8e95fbde0d40": {
     "views": []
    },
    "b4c6e40601c2448e90b12e9e53a70eef": {
     "views": []
    },
    "b4dd6f2f376149dbb98bbac3f8c06d3b": {
     "views": []
    },
    "b6147bcad141463eae4e0859cffcf7ac": {
     "views": []
    },
    "b833cb3eaea84ca2be98a11d18ed530b": {
     "views": []
    },
    "bbaa30e97a0f41d19885c798cb1d6e84": {
     "views": []
    },
    "bc1d4d9c08dc417a824bcd38aa50b1c4": {
     "views": []
    },
    "bd95a890d63749f0abc00ccfe043e50a": {
     "views": []
    },
    "c1ebc0c9af3c4c64bfdd9396f85f7b95": {
     "views": []
    },
    "c25f410546a344c4a7bc8b69bbb05ec4": {
     "views": []
    },
    "c50f1fcd38574ef7a89b69937baa05e7": {
     "views": []
    },
    "c609139a7a694af0b8e49da46fc89dce": {
     "views": []
    },
    "c7f4311b74f34e1c8e552ffbca0c061e": {
     "views": []
    },
    "c862e43a485e4859833daba330d41b74": {
     "views": []
    },
    "cba1ddc683144b3599694e6f297d7c84": {
     "views": [
      {
       "cell_index": 39
      }
     ]
    },
    "cbbb7675a2084a05892078f5e63ab20e": {
     "views": [
      {
       "cell_index": 48
      }
     ]
    },
    "d157923d0a384caebe3f3a29c07d951b": {
     "views": [
      {
       "cell_index": 48
      }
     ]
    },
    "d45449154d4f4c7eb5d0b69ce013245a": {
     "views": []
    },
    "d5d5f6e349b6472694adeb0f5bf01422": {
     "views": []
    },
    "d5fb0b5b840c4ba1a48e85363c052f22": {
     "views": []
    },
    "d7202a7271a2424a8f04ac76cfeecf3f": {
     "views": []
    },
    "d79e3decc24140719d1c4f2562a46cb0": {
     "views": []
    },
    "d8669669469940bb878900e3cb660f71": {
     "views": [
      {
       "cell_index": 39
      }
     ]
    },
    "d890850f5cf148f5b4899c118d7d5054": {
     "views": []
    },
    "d8a9e1d640964ffe85c30cdc9b92a4ea": {
     "views": []
    },
    "da06f8d827424a9db6ff0d36e50c8b49": {
     "views": []
    },
    "da599202b7914b60b30bfc538be6d019": {
     "views": []
    },
    "dab89c89bcc0400f97cfb22657a5dd5a": {
     "views": []
    },
    "dbc2c0971f7a4148870ca8f247b77b30": {
     "views": []
    },
    "ddc1d1c2e8b3483ab185acc82a836db5": {
     "views": []
    },
    "ddf526853b97418aa3c31f534dfaf246": {
     "views": []
    },
    "de3ccfb699b64027916668b0f0c2be15": {
     "views": []
    },
    "e0a49138d73a4356adaf03c01adaef3a": {
     "views": []
    },
    "e2be1cbb484842e199764e65866b8153": {
     "views": []
    },
    "e354bab76bc945b2b2a6f65e04c2f8cf": {
     "views": []
    },
    "e429e8d9d83243b9bcbb2d1f980b6477": {
     "views": []
    },
    "e5c2b23dd61f4013bf3210e2ec0e82dd": {
     "views": []
    },
    "e63c627349e14b07af9b47c99657c8a3": {
     "views": []
    },
    "e6ec02b4d28c41ca90858b86ccf12e99": {
     "views": []
    },
    "e91cce5bf98a46b4a227ec8867ecd619": {
     "views": [
      {
       "cell_index": 39
      }
     ]
    },
    "eac6b7d4dccf4caab2300c05faba4a1c": {
     "views": []
    },
    "ed6816e268b84f28bfd83a529af01b3a": {
     "views": []
    },
    "ee15dd6a275d48fe83a1a29c1fd12493": {
     "views": []
    },
    "ee86c49963674c15949ee08e00ba80ea": {
     "views": []
    },
    "f02fe66d185240d59411cf365227b63d": {
     "views": []
    },
    "f0e67c47f77940c991ca07799eccd548": {
     "views": [
      {
       "cell_index": 45
      }
     ]
    },
    "f109fd87c8804f77b5cb80db9a05debd": {
     "views": []
    },
    "f14665e8687244dd97574e9aaa35011e": {
     "views": []
    },
    "f2ab15e069834617be43cc0b456ade8d": {
     "views": []
    },
    "f347876aeea44608969ec471c88c04f7": {
     "views": [
      {
       "cell_index": 39
      }
     ]
    },
    "f70c2c8a3e914fc9b63a4726ea1ecf20": {
     "views": []
    },
    "f732a1eb6ed44af08eb35973c73b8b4d": {
     "views": []
    },
    "f8997408923e4e619a11ca0d7032c7c4": {
     "views": []
    },
    "f8bbf885bffe41d59963d6fc6193f7f5": {
     "views": []
    },
    "fcce8552a93346e0ae78010f5d330cf6": {
     "views": []
    },
    "fd5961e6498e4030abc6a4ed474d0f58": {
     "views": []
    },
    "fe34e13eb3254a06878654218a2e8727": {
     "views": []
    }
   },
   "version": "1.1.2"
  }
 },
 "nbformat": 4,
 "nbformat_minor": 0
}
